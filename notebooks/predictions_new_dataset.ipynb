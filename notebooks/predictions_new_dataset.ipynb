{
 "cells": [
  {
   "cell_type": "code",
   "execution_count": 1,
   "id": "3866e233",
   "metadata": {},
   "outputs": [],
   "source": [
    "import os\n",
    "import pandas as pd\n",
    "import matplotlib.pyplot as plt\n",
    "import seaborn as sns\n",
    "\n",
    "%matplotlib inline\n",
    "\n",
    "import biomassml\n",
    "from biomassml.io import *\n",
    "from biomassml.predict_outputs import *\n",
    "\n",
    "DATA_DIR = \".../data/\"\n",
    "MODEL_DIR = \".../models/\"\n",
    "\n",
    "output_names = [\n",
    "    \"CO (vol%)\",\n",
    "    r\"H$_2$ (vol%)\",\n",
    "    r\"CH$_4$ (vol%)\",\n",
    "    \"COMBgas (vol%)\",\n",
    "    r\"H$_2$/CO\",\n",
    "    r\"GAS (m$^3$/kg biom)\",\n",
    "    r\"E$_{\\rm yield}$ (MJ/kg biom)\",\n",
    "]"
   ]
  },
  {
   "cell_type": "markdown",
   "id": "714b2ffb",
   "metadata": {},
   "source": [
    "### load training GASIF dataset"
   ]
  },
  {
   "cell_type": "code",
   "execution_count": 3,
   "id": "d4d14bc3",
   "metadata": {},
   "outputs": [],
   "source": [
    "dfGASIF_dataset = pd.read_csv(os.path.join(DATA_DIR, \"data_GASIF_biomass.csv\"))"
   ]
  },
  {
   "cell_type": "code",
   "execution_count": 4,
   "id": "4638c886",
   "metadata": {
    "scrolled": true
   },
   "outputs": [
    {
     "name": "stdout",
     "output_type": "stream",
     "text": [
      "<class 'pandas.core.frame.DataFrame'>\n",
      "RangeIndex: 30 entries, 0 to 29\n",
      "Data columns (total 21 columns):\n",
      " #   Column            Non-Null Count  Dtype  \n",
      "---  ------            --------------  -----  \n",
      " 0   BIOMASS           30 non-null     object \n",
      " 1   SA                30 non-null     float64\n",
      " 2   SBR               30 non-null     float64\n",
      " 3   HHVbiom (MJ/kg)   30 non-null     float64\n",
      " 4   T (K)             30 non-null     int64  \n",
      " 5   SR                30 non-null     float64\n",
      " 6   C (%)             30 non-null     float64\n",
      " 7   N (%)             30 non-null     float64\n",
      " 8   H (%)             30 non-null     float64\n",
      " 9   S (%)             30 non-null     float64\n",
      " 10  O (%)             30 non-null     float64\n",
      " 11  ash (%)           30 non-null     float64\n",
      " 12  VM (%)            30 non-null     float64\n",
      " 13  FC (%)            30 non-null     float64\n",
      " 14  MC (%)            30 non-null     float64\n",
      " 15  volCO2 (%)        30 non-null     float64\n",
      " 16  volCO (%)         30 non-null     float64\n",
      " 17  volCH4 (%)        30 non-null     float64\n",
      " 18  volH2 (%)         30 non-null     float64\n",
      " 19  volCOMB (%)       30 non-null     float64\n",
      " 20  GAS (m3/kg biom)  30 non-null     float64\n",
      "dtypes: float64(19), int64(1), object(1)\n",
      "memory usage: 5.0+ KB\n"
     ]
    }
   ],
   "source": [
    "dfGASIF_dataset.info()"
   ]
  },
  {
   "cell_type": "code",
   "execution_count": 5,
   "id": "8a96cc34",
   "metadata": {},
   "outputs": [
    {
     "data": {
      "text/html": [
       "<div>\n",
       "<style scoped>\n",
       "    .dataframe tbody tr th:only-of-type {\n",
       "        vertical-align: middle;\n",
       "    }\n",
       "\n",
       "    .dataframe tbody tr th {\n",
       "        vertical-align: top;\n",
       "    }\n",
       "\n",
       "    .dataframe thead th {\n",
       "        text-align: right;\n",
       "    }\n",
       "</style>\n",
       "<table border=\"1\" class=\"dataframe\">\n",
       "  <thead>\n",
       "    <tr style=\"text-align: right;\">\n",
       "      <th></th>\n",
       "      <th>SA</th>\n",
       "      <th>SBR</th>\n",
       "      <th>HHVbiom (MJ/kg)</th>\n",
       "      <th>T (K)</th>\n",
       "      <th>SR</th>\n",
       "      <th>C (%)</th>\n",
       "      <th>H (%)</th>\n",
       "      <th>O (%)</th>\n",
       "      <th>ash (%)</th>\n",
       "      <th>VM (%)</th>\n",
       "      <th>FC (%)</th>\n",
       "      <th>MC (%)</th>\n",
       "    </tr>\n",
       "  </thead>\n",
       "  <tbody>\n",
       "    <tr>\n",
       "      <th>0</th>\n",
       "      <td>2.33</td>\n",
       "      <td>1.1</td>\n",
       "      <td>19.5649</td>\n",
       "      <td>1173</td>\n",
       "      <td>0.13</td>\n",
       "      <td>49.44</td>\n",
       "      <td>5.85</td>\n",
       "      <td>42.9</td>\n",
       "      <td>1.45</td>\n",
       "      <td>78.93</td>\n",
       "      <td>19.62</td>\n",
       "      <td>6.52</td>\n",
       "    </tr>\n",
       "  </tbody>\n",
       "</table>\n",
       "</div>"
      ],
      "text/plain": [
       "     SA  SBR  HHVbiom (MJ/kg)  T (K)    SR  C (%)  H (%)  O (%)  ash (%)  \\\n",
       "0  2.33  1.1          19.5649   1173  0.13  49.44   5.85   42.9     1.45   \n",
       "\n",
       "   VM (%)  FC (%)  MC (%)  \n",
       "0   78.93   19.62    6.52  "
      ]
     },
     "execution_count": 5,
     "metadata": {},
     "output_type": "execute_result"
    }
   ],
   "source": [
    "FEATURES_GASIF = pd.concat(\n",
    "    [dfGASIF_dataset.iloc[:, 1:7], dfGASIF_dataset.iloc[:, [8, 10, 11, 12, 13, 14]]], axis=1\n",
    ")\n",
    "FEATURES_GASIF.head(1)"
   ]
  },
  {
   "cell_type": "code",
   "execution_count": 6,
   "id": "ca07d52b",
   "metadata": {},
   "outputs": [
    {
     "data": {
      "text/html": [
       "<div>\n",
       "<style scoped>\n",
       "    .dataframe tbody tr th:only-of-type {\n",
       "        vertical-align: middle;\n",
       "    }\n",
       "\n",
       "    .dataframe tbody tr th {\n",
       "        vertical-align: top;\n",
       "    }\n",
       "\n",
       "    .dataframe thead th {\n",
       "        text-align: right;\n",
       "    }\n",
       "</style>\n",
       "<table border=\"1\" class=\"dataframe\">\n",
       "  <thead>\n",
       "    <tr style=\"text-align: right;\">\n",
       "      <th></th>\n",
       "      <th>volCO (%)</th>\n",
       "      <th>volH2 (%)</th>\n",
       "      <th>volCOMB (%)</th>\n",
       "      <th>GAS (m3/kg biom)</th>\n",
       "    </tr>\n",
       "  </thead>\n",
       "  <tbody>\n",
       "    <tr>\n",
       "      <th>0</th>\n",
       "      <td>23.6541</td>\n",
       "      <td>36.4296</td>\n",
       "      <td>67.4756</td>\n",
       "      <td>0.7975</td>\n",
       "    </tr>\n",
       "  </tbody>\n",
       "</table>\n",
       "</div>"
      ],
      "text/plain": [
       "   volCO (%)  volH2 (%)  volCOMB (%)  GAS (m3/kg biom)\n",
       "0    23.6541    36.4296      67.4756            0.7975"
      ]
     },
     "execution_count": 6,
     "metadata": {},
     "output_type": "execute_result"
    }
   ],
   "source": [
    "TARGETS_GASIF = dfGASIF_dataset.iloc[:, [16, 18, 19, 20]]\n",
    "TARGETS_GASIF.head(1)"
   ]
  },
  {
   "cell_type": "markdown",
   "id": "fabd5592",
   "metadata": {},
   "source": [
    "#### get scalers from dfGASIF_dataset"
   ]
  },
  {
   "cell_type": "code",
   "execution_count": 7,
   "id": "5b741eca",
   "metadata": {},
   "outputs": [
    {
     "data": {
      "text/plain": [
       "['y_scaler']"
      ]
     },
     "execution_count": 7,
     "metadata": {},
     "output_type": "execute_result"
    }
   ],
   "source": [
    "x_scaler, y_scaler = get_scalers(FEATURES_GASIF, TARGETS_GASIF)\n",
    "joblib.dump(x_scaler, \"x_scaler\")\n",
    "joblib.dump(y_scaler, \"y_scaler\")"
   ]
  },
  {
   "cell_type": "markdown",
   "id": "4208b818",
   "metadata": {},
   "source": [
    "### load model"
   ]
  },
  {
   "cell_type": "code",
   "execution_count": 9,
   "id": "ee6e808f",
   "metadata": {},
   "outputs": [],
   "source": [
    "model = load_joblib(os.path.join(MODEL_DIR, \"model_GPR_retrained\"))"
   ]
  },
  {
   "cell_type": "markdown",
   "id": "4e42c35e",
   "metadata": {},
   "source": [
    "### predictions for NEW BIOMASSES"
   ]
  },
  {
   "cell_type": "code",
   "execution_count": 10,
   "id": "8226530a",
   "metadata": {},
   "outputs": [],
   "source": [
    "df_newBIOMASSES = pd.read_csv(os.path.join(DATA_DIR, \"data_NEW_biomasses.csv\"))"
   ]
  },
  {
   "cell_type": "code",
   "execution_count": 11,
   "id": "21d4954d",
   "metadata": {
    "scrolled": true
   },
   "outputs": [
    {
     "name": "stdout",
     "output_type": "stream",
     "text": [
      "<class 'pandas.core.frame.DataFrame'>\n",
      "RangeIndex: 68 entries, 0 to 67\n",
      "Data columns (total 19 columns):\n",
      " #   Column           Non-Null Count  Dtype  \n",
      "---  ------           --------------  -----  \n",
      " 0   BIOMASS_name     68 non-null     object \n",
      " 1   BIOMASS_name2    68 non-null     object \n",
      " 2   BIOMASS          68 non-null     object \n",
      " 3   ORIGIN           68 non-null     object \n",
      " 4   SA               68 non-null     float64\n",
      " 5   SBR              68 non-null     float64\n",
      " 6   HHVbiom (MJ/kg)  68 non-null     float64\n",
      " 7   T (K)            68 non-null     int64  \n",
      " 8   SR               68 non-null     float64\n",
      " 9   C (%)            68 non-null     float64\n",
      " 10  N (%)            68 non-null     float64\n",
      " 11  H (%)            68 non-null     float64\n",
      " 12  S (%)            68 non-null     float64\n",
      " 13  O (%)            68 non-null     float64\n",
      " 14  ash (%)          68 non-null     float64\n",
      " 15  VM (%)           68 non-null     float64\n",
      " 16  FC (%)           68 non-null     float64\n",
      " 17  MC (%)           68 non-null     float64\n",
      " 18  REFERENCE        68 non-null     object \n",
      "dtypes: float64(13), int64(1), object(5)\n",
      "memory usage: 10.2+ KB\n"
     ]
    }
   ],
   "source": [
    "df_newBIOMASSES.info()"
   ]
  },
  {
   "cell_type": "markdown",
   "id": "331742ce",
   "metadata": {},
   "source": [
    "#### T = 1173 K, SA = 2.33"
   ]
  },
  {
   "cell_type": "code",
   "execution_count": 12,
   "id": "fff57856",
   "metadata": {
    "scrolled": true
   },
   "outputs": [
    {
     "data": {
      "text/html": [
       "<div>\n",
       "<style scoped>\n",
       "    .dataframe tbody tr th:only-of-type {\n",
       "        vertical-align: middle;\n",
       "    }\n",
       "\n",
       "    .dataframe tbody tr th {\n",
       "        vertical-align: top;\n",
       "    }\n",
       "\n",
       "    .dataframe thead th {\n",
       "        text-align: right;\n",
       "    }\n",
       "</style>\n",
       "<table border=\"1\" class=\"dataframe\">\n",
       "  <thead>\n",
       "    <tr style=\"text-align: right;\">\n",
       "      <th></th>\n",
       "      <th>SA</th>\n",
       "      <th>SBR</th>\n",
       "      <th>HHVbiom (MJ/kg)</th>\n",
       "      <th>T (K)</th>\n",
       "      <th>SR</th>\n",
       "      <th>C (%)</th>\n",
       "      <th>H (%)</th>\n",
       "      <th>O (%)</th>\n",
       "      <th>ash (%)</th>\n",
       "      <th>VM (%)</th>\n",
       "      <th>FC (%)</th>\n",
       "      <th>MC (%)</th>\n",
       "    </tr>\n",
       "  </thead>\n",
       "  <tbody>\n",
       "    <tr>\n",
       "      <th>0</th>\n",
       "      <td>2.3333</td>\n",
       "      <td>2.0502</td>\n",
       "      <td>18.77</td>\n",
       "      <td>1173</td>\n",
       "      <td>0.25</td>\n",
       "      <td>46.50</td>\n",
       "      <td>5.97</td>\n",
       "      <td>40.16</td>\n",
       "      <td>6.18</td>\n",
       "      <td>73.21</td>\n",
       "      <td>20.61</td>\n",
       "      <td>8.18</td>\n",
       "    </tr>\n",
       "    <tr>\n",
       "      <th>1</th>\n",
       "      <td>2.3333</td>\n",
       "      <td>2.2003</td>\n",
       "      <td>19.05</td>\n",
       "      <td>1173</td>\n",
       "      <td>0.25</td>\n",
       "      <td>50.14</td>\n",
       "      <td>5.95</td>\n",
       "      <td>40.10</td>\n",
       "      <td>3.04</td>\n",
       "      <td>76.10</td>\n",
       "      <td>20.86</td>\n",
       "      <td>7.85</td>\n",
       "    </tr>\n",
       "  </tbody>\n",
       "</table>\n",
       "</div>"
      ],
      "text/plain": [
       "       SA     SBR  HHVbiom (MJ/kg)  T (K)    SR  C (%)  H (%)  O (%)  ash (%)  \\\n",
       "0  2.3333  2.0502            18.77   1173  0.25  46.50   5.97  40.16     6.18   \n",
       "1  2.3333  2.2003            19.05   1173  0.25  50.14   5.95  40.10     3.04   \n",
       "\n",
       "   VM (%)  FC (%)  MC (%)  \n",
       "0   73.21   20.61    8.18  \n",
       "1   76.10   20.86    7.85  "
      ]
     },
     "execution_count": 12,
     "metadata": {},
     "output_type": "execute_result"
    }
   ],
   "source": [
    "FEATURES_NEWbiomass = pd.concat(\n",
    "    [df_newBIOMASSES.iloc[:, 4:10], df_newBIOMASSES.iloc[:, [11, 13, 14, 15, 16, 17]]], axis=1\n",
    ")\n",
    "FEATURES_NEWbiomass.head(2)"
   ]
  },
  {
   "cell_type": "code",
   "execution_count": 13,
   "id": "c4e2e6c7",
   "metadata": {},
   "outputs": [],
   "source": [
    "X = FEATURES_NEWbiomass\n",
    "y = TARGETS_GASIF\n",
    "\n",
    "y_pred_mu_CO = predict_CO(X, model, x_scaler, y_scaler)[0]\n",
    "y_pred_std_CO = predict_CO(X, model, x_scaler, y_scaler)[1]\n",
    "\n",
    "y_pred_mu_H2 = predict_H2(X, model, x_scaler, y_scaler)[0]\n",
    "y_pred_std_H2 = predict_H2(X, model, x_scaler, y_scaler)[1]\n",
    "\n",
    "y_pred_mu_COMB = predict_COMB(X, model, x_scaler, y_scaler)[0]\n",
    "y_pred_std_COMB = predict_COMB(X, model, x_scaler, y_scaler)[1]\n",
    "\n",
    "y_pred_mu_GAS = predict_GAS(X, model, x_scaler, y_scaler)[0]\n",
    "y_pred_std_GAS = predict_GAS(X, model, x_scaler, y_scaler)[1]\n",
    "\n",
    "y_pred_mu_CH4 = predict_CH4_covar(X, model, x_scaler, y_scaler, DATA_DIR)[0]\n",
    "y_pred_std_CH4_covar = predict_CH4_covar(X, model, x_scaler, y_scaler, DATA_DIR)[1]\n",
    "\n",
    "y_pred_mu_H2CO = predict_H2CO(X, model, x_scaler, y_scaler)[0]\n",
    "y_pred_std_H2CO = predict_H2CO(X, model, x_scaler, y_scaler)[1]\n",
    "\n",
    "y_pred_mu_Eyield = predict_Eyield(X, model, x_scaler, y_scaler)[0]\n",
    "y_pred_std_Eyield = predict_Eyield(X, model, x_scaler, y_scaler)[1]\n",
    "\n",
    "df_predictions_mu = pd.DataFrame(\n",
    "    np.hstack(\n",
    "        (\n",
    "            y_pred_mu_CO,\n",
    "            y_pred_mu_H2,\n",
    "            y_pred_mu_CH4,\n",
    "            y_pred_mu_COMB,\n",
    "            y_pred_mu_H2CO,\n",
    "            y_pred_mu_GAS,\n",
    "            y_pred_mu_Eyield,\n",
    "        )\n",
    "    ),\n",
    "    columns=output_names,\n",
    ")\n",
    "df_predictions_mu[\"BIOMASS\"] = df_newBIOMASSES[\"BIOMASS\"]\n",
    "df_predictions_std = pd.DataFrame(\n",
    "    np.hstack(\n",
    "        (\n",
    "            y_pred_std_CO,\n",
    "            y_pred_std_H2,\n",
    "            y_pred_std_CH4_covar.reshape(-1, 1),\n",
    "            y_pred_std_COMB,\n",
    "            y_pred_std_H2CO,\n",
    "            y_pred_std_GAS,\n",
    "            y_pred_std_Eyield,\n",
    "        )\n",
    "    ),\n",
    "    columns=output_names,\n",
    ")"
   ]
  },
  {
   "cell_type": "code",
   "execution_count": 14,
   "id": "d5df122b",
   "metadata": {},
   "outputs": [
    {
     "data": {
      "text/html": [
       "<div>\n",
       "<style scoped>\n",
       "    .dataframe tbody tr th:only-of-type {\n",
       "        vertical-align: middle;\n",
       "    }\n",
       "\n",
       "    .dataframe tbody tr th {\n",
       "        vertical-align: top;\n",
       "    }\n",
       "\n",
       "    .dataframe thead th {\n",
       "        text-align: right;\n",
       "    }\n",
       "</style>\n",
       "<table border=\"1\" class=\"dataframe\">\n",
       "  <thead>\n",
       "    <tr style=\"text-align: right;\">\n",
       "      <th></th>\n",
       "      <th>CO (vol%)</th>\n",
       "      <th>H$_2$ (vol%)</th>\n",
       "      <th>CH$_4$ (vol%)</th>\n",
       "      <th>COMBgas (vol%)</th>\n",
       "      <th>H$_2$/CO</th>\n",
       "      <th>GAS (m$^3$/kg biom)</th>\n",
       "      <th>E$_{\\rm yield}$ (MJ/kg biom)</th>\n",
       "      <th>BIOMASS</th>\n",
       "    </tr>\n",
       "  </thead>\n",
       "  <tbody>\n",
       "    <tr>\n",
       "      <th>0</th>\n",
       "      <td>16.6691</td>\n",
       "      <td>34.579061</td>\n",
       "      <td>7.537308</td>\n",
       "      <td>58.785469</td>\n",
       "      <td>2.074441</td>\n",
       "      <td>0.826763</td>\n",
       "      <td>7.324771</td>\n",
       "      <td>ALH</td>\n",
       "    </tr>\n",
       "  </tbody>\n",
       "</table>\n",
       "</div>"
      ],
      "text/plain": [
       "   CO (vol%)  H$_2$ (vol%)  CH$_4$ (vol%)  COMBgas (vol%)  H$_2$/CO  \\\n",
       "0    16.6691     34.579061       7.537308       58.785469  2.074441   \n",
       "\n",
       "   GAS (m$^3$/kg biom)  E$_{\\rm yield}$ (MJ/kg biom) BIOMASS  \n",
       "0             0.826763                      7.324771     ALH  "
      ]
     },
     "execution_count": 14,
     "metadata": {},
     "output_type": "execute_result"
    }
   ],
   "source": [
    "df_predictions_mu.head(1)"
   ]
  },
  {
   "cell_type": "code",
   "execution_count": 15,
   "id": "b37dab56",
   "metadata": {},
   "outputs": [
    {
     "data": {
      "text/html": [
       "<div>\n",
       "<style scoped>\n",
       "    .dataframe tbody tr th:only-of-type {\n",
       "        vertical-align: middle;\n",
       "    }\n",
       "\n",
       "    .dataframe tbody tr th {\n",
       "        vertical-align: top;\n",
       "    }\n",
       "\n",
       "    .dataframe thead th {\n",
       "        text-align: right;\n",
       "    }\n",
       "</style>\n",
       "<table border=\"1\" class=\"dataframe\">\n",
       "  <thead>\n",
       "    <tr style=\"text-align: right;\">\n",
       "      <th></th>\n",
       "      <th>CO (vol%)</th>\n",
       "      <th>H$_2$ (vol%)</th>\n",
       "      <th>CH$_4$ (vol%)</th>\n",
       "      <th>COMBgas (vol%)</th>\n",
       "      <th>H$_2$/CO</th>\n",
       "      <th>GAS (m$^3$/kg biom)</th>\n",
       "      <th>E$_{\\rm yield}$ (MJ/kg biom)</th>\n",
       "    </tr>\n",
       "  </thead>\n",
       "  <tbody>\n",
       "    <tr>\n",
       "      <th>0</th>\n",
       "      <td>2.496099</td>\n",
       "      <td>2.019309</td>\n",
       "      <td>1.561786</td>\n",
       "      <td>3.062825</td>\n",
       "      <td>0.333421</td>\n",
       "      <td>0.146567</td>\n",
       "      <td>1.905054</td>\n",
       "    </tr>\n",
       "  </tbody>\n",
       "</table>\n",
       "</div>"
      ],
      "text/plain": [
       "   CO (vol%)  H$_2$ (vol%)  CH$_4$ (vol%)  COMBgas (vol%)  H$_2$/CO  \\\n",
       "0   2.496099      2.019309       1.561786        3.062825  0.333421   \n",
       "\n",
       "   GAS (m$^3$/kg biom)  E$_{\\rm yield}$ (MJ/kg biom)  \n",
       "0             0.146567                      1.905054  "
      ]
     },
     "execution_count": 15,
     "metadata": {},
     "output_type": "execute_result"
    }
   ],
   "source": [
    "df_predictions_std.head(1)"
   ]
  },
  {
   "cell_type": "code",
   "execution_count": 16,
   "id": "ee2f2d19",
   "metadata": {},
   "outputs": [
    {
     "data": {
      "text/html": [
       "<div>\n",
       "<style scoped>\n",
       "    .dataframe tbody tr th:only-of-type {\n",
       "        vertical-align: middle;\n",
       "    }\n",
       "\n",
       "    .dataframe tbody tr th {\n",
       "        vertical-align: top;\n",
       "    }\n",
       "\n",
       "    .dataframe thead th {\n",
       "        text-align: right;\n",
       "    }\n",
       "</style>\n",
       "<table border=\"1\" class=\"dataframe\">\n",
       "  <thead>\n",
       "    <tr style=\"text-align: right;\">\n",
       "      <th></th>\n",
       "      <th>CO (vol%)</th>\n",
       "      <th>H$_2$ (vol%)</th>\n",
       "      <th>CH$_4$ (vol%)</th>\n",
       "      <th>COMBgas (vol%)</th>\n",
       "      <th>H$_2$/CO</th>\n",
       "      <th>GAS (m$^3$/kg biom)</th>\n",
       "      <th>E$_{\\rm yield}$ (MJ/kg biom)</th>\n",
       "      <th>BIOMASS</th>\n",
       "      <th>BIOMASS_name</th>\n",
       "    </tr>\n",
       "  </thead>\n",
       "  <tbody>\n",
       "    <tr>\n",
       "      <th>0</th>\n",
       "      <td>16.6691</td>\n",
       "      <td>34.579061</td>\n",
       "      <td>7.537308</td>\n",
       "      <td>58.785469</td>\n",
       "      <td>2.074441</td>\n",
       "      <td>0.826763</td>\n",
       "      <td>7.324771</td>\n",
       "      <td>ALH</td>\n",
       "      <td>almond hulls</td>\n",
       "    </tr>\n",
       "  </tbody>\n",
       "</table>\n",
       "</div>"
      ],
      "text/plain": [
       "   CO (vol%)  H$_2$ (vol%)  CH$_4$ (vol%)  COMBgas (vol%)  H$_2$/CO  \\\n",
       "0    16.6691     34.579061       7.537308       58.785469  2.074441   \n",
       "\n",
       "   GAS (m$^3$/kg biom)  E$_{\\rm yield}$ (MJ/kg biom) BIOMASS  BIOMASS_name  \n",
       "0             0.826763                      7.324771     ALH  almond hulls  "
      ]
     },
     "execution_count": 16,
     "metadata": {},
     "output_type": "execute_result"
    }
   ],
   "source": [
    "df_predictions_mu = pd.concat([df_predictions_mu, df_newBIOMASSES[\"BIOMASS_name\"]], axis=1)\n",
    "df_predictions_mu.head(1)"
   ]
  },
  {
   "cell_type": "code",
   "execution_count": 17,
   "id": "f4f85dd9",
   "metadata": {},
   "outputs": [
    {
     "data": {
      "image/png": "[encoded data removed]",
      "text/plain": [
       "<Figure size 763.2x612 with 1 Axes>"
      ]
     },
     "metadata": {
      "needs_background": "light"
     },
     "output_type": "display_data"
    }
   ],
   "source": [
    "x_var = 6\n",
    "y_var = 4\n",
    "fig, ax = plt.subplots(1, 1, figsize=(10.6, 8.5))\n",
    "x = df_predictions_mu.iloc[:, x_var]\n",
    "y = df_predictions_mu.iloc[:, y_var]\n",
    "sns.scatterplot(x=x, y=y, color=\"#134c87\", s=120)\n",
    "ax.axhline(y=1.995, linestyle=\"--\", linewidth=1.5, color=\"#134c87\")\n",
    "ax.set_xlabel(output_names[x_var], fontsize=22, fontweight=\"bold\", labelpad=14)\n",
    "ax.set_ylabel(output_names[y_var], fontsize=22, fontweight=\"bold\", labelpad=8)\n",
    "ax.tick_params(labelsize=16)\n",
    "ax.axes.set_xlim(3.5, 19.8)\n",
    "ax.axes.set_xticks(np.arange(4, 20, 2))\n",
    "plt.show()"
   ]
  },
  {
   "cell_type": "markdown",
   "id": "49a3bd6b",
   "metadata": {},
   "source": [
    "### optimization of the process operating conditions"
   ]
  },
  {
   "cell_type": "code",
   "execution_count": 18,
   "id": "76e5a40b",
   "metadata": {},
   "outputs": [],
   "source": [
    "feature_T = np.linspace(FEATURES_GASIF.iloc[:, 3].min(), FEATURES_GASIF.iloc[:, 3].max(), 200)\n",
    "feature_SA = np.linspace(0.33, FEATURES_GASIF.iloc[:, 0].max(), 200)\n",
    "dim1, dim2 = np.meshgrid(feature_T, feature_SA)"
   ]
  },
  {
   "cell_type": "code",
   "execution_count": 19,
   "id": "660b1344",
   "metadata": {},
   "outputs": [
    {
     "data": {
      "text/html": [
       "<div>\n",
       "<style scoped>\n",
       "    .dataframe tbody tr th:only-of-type {\n",
       "        vertical-align: middle;\n",
       "    }\n",
       "\n",
       "    .dataframe tbody tr th {\n",
       "        vertical-align: top;\n",
       "    }\n",
       "\n",
       "    .dataframe thead th {\n",
       "        text-align: right;\n",
       "    }\n",
       "</style>\n",
       "<table border=\"1\" class=\"dataframe\">\n",
       "  <thead>\n",
       "    <tr style=\"text-align: right;\">\n",
       "      <th></th>\n",
       "      <th>BIOMASS_name</th>\n",
       "      <th>BIOMASS_name2</th>\n",
       "      <th>BIOMASS</th>\n",
       "      <th>ORIGIN</th>\n",
       "      <th>SA</th>\n",
       "      <th>SBR</th>\n",
       "      <th>HHVbiom (MJ/kg)</th>\n",
       "      <th>T (K)</th>\n",
       "      <th>SR</th>\n",
       "      <th>C (%)</th>\n",
       "      <th>N (%)</th>\n",
       "      <th>H (%)</th>\n",
       "      <th>S (%)</th>\n",
       "      <th>O (%)</th>\n",
       "      <th>ash (%)</th>\n",
       "      <th>VM (%)</th>\n",
       "      <th>FC (%)</th>\n",
       "      <th>MC (%)</th>\n",
       "      <th>REFERENCE</th>\n",
       "    </tr>\n",
       "  </thead>\n",
       "  <tbody>\n",
       "    <tr>\n",
       "      <th>0</th>\n",
       "      <td>almond hulls</td>\n",
       "      <td>almond hulls (ALH)</td>\n",
       "      <td>ALH</td>\n",
       "      <td>fruit bunches</td>\n",
       "      <td>2.3333</td>\n",
       "      <td>2.0502</td>\n",
       "      <td>18.77</td>\n",
       "      <td>1173</td>\n",
       "      <td>0.25</td>\n",
       "      <td>46.5</td>\n",
       "      <td>1.15</td>\n",
       "      <td>5.97</td>\n",
       "      <td>0.04</td>\n",
       "      <td>40.16</td>\n",
       "      <td>6.18</td>\n",
       "      <td>73.21</td>\n",
       "      <td>20.61</td>\n",
       "      <td>8.18</td>\n",
       "      <td>https://phyllis.nl/</td>\n",
       "    </tr>\n",
       "  </tbody>\n",
       "</table>\n",
       "</div>"
      ],
      "text/plain": [
       "   BIOMASS_name       BIOMASS_name2 BIOMASS         ORIGIN      SA     SBR  \\\n",
       "0  almond hulls  almond hulls (ALH)     ALH  fruit bunches  2.3333  2.0502   \n",
       "\n",
       "   HHVbiom (MJ/kg)  T (K)    SR  C (%)  N (%)  H (%)  S (%)  O (%)  ash (%)  \\\n",
       "0            18.77   1173  0.25   46.5   1.15   5.97   0.04  40.16     6.18   \n",
       "\n",
       "   VM (%)  FC (%)  MC (%)            REFERENCE  \n",
       "0   73.21   20.61    8.18  https://phyllis.nl/  "
      ]
     },
     "execution_count": 19,
     "metadata": {},
     "output_type": "execute_result"
    }
   ],
   "source": [
    "df_newBIOMASSES.head(1)"
   ]
  },
  {
   "cell_type": "code",
   "execution_count": 21,
   "id": "e41bee0e",
   "metadata": {},
   "outputs": [
    {
     "data": {
      "image/png": "[encoded data removed]",
      "text/plain": [
       "<Figure size 360x360 with 2 Axes>"
      ]
     },
     "metadata": {
      "needs_background": "light"
     },
     "output_type": "display_data"
    }
   ],
   "source": [
    "n = 36\n",
    "min_ratio = 1.9\n",
    "max_ratio = 2.1\n",
    "biomass_predict = df_newBIOMASSES.iloc[:, [4, 5, 6, 7, 8, 9, 11, 13, 14, 15, 16, 17]].iloc[n, :]\n",
    "mesh_df = np.array([biomass_predict for i in range(dim1.size)])\n",
    "mesh_df[:, 3] = dim1.ravel()\n",
    "mesh_df[:, 0] = dim2.ravel()\n",
    "\n",
    "Z = predict_H2CO(mesh_df, model, x_scaler, y_scaler)[0].reshape(dim1.shape)\n",
    "\n",
    "fig, ax = plt.subplots(1, 1, figsize=(5, 5))\n",
    "\n",
    "ax.imshow(Z, cmap=\"RdBu_r\", origin=\"lower\", extent=[973, 1173, 0.33, 2.33])\n",
    "ax.set_aspect(100)\n",
    "ax.set_title(df_newBIOMASSES[\"BIOMASS_name\"][n], fontsize=18)\n",
    "ax.set_xlabel(\"T (K)\", fontsize=16)\n",
    "ax.set_ylabel(\"SA\", fontsize=16)\n",
    "ax.tick_params(labelsize=14)\n",
    "\n",
    "contourlines = ax.contour(\n",
    "    Z,\n",
    "    levels=[min_ratio, max_ratio],\n",
    "    extent=[973, 1173, 0.33, 2.33],\n",
    "    linestyles=\"dashed\",\n",
    "    colors=\"black\",\n",
    "    linewidths=1.5,\n",
    ")\n",
    "\n",
    "norm = plt.Normalize(min(Z.ravel()), max(Z.ravel()))\n",
    "cbar = plt.cm.ScalarMappable(cmap=\"RdBu_r\", norm=norm)\n",
    "\n",
    "ax2 = fig.colorbar(cbar, shrink=0.835, aspect=20, pad=0.04)\n",
    "ax2.outline.set_visible(False)\n",
    "ax2.set_label(output_names[4], labelpad=10, fontsize=16, weight=\"bold\")\n",
    "ax2.ax.tick_params(labelsize=12)\n",
    "ax2.add_lines(contourlines)\n",
    "plt.show()"
   ]
  },
  {
   "cell_type": "code",
   "execution_count": 22,
   "id": "1fcecb19",
   "metadata": {},
   "outputs": [
    {
     "data": {
      "image/png": "[encoded data removed]",
      "text/plain": [
       "<Figure size 360x360 with 2 Axes>"
      ]
     },
     "metadata": {
      "needs_background": "light"
     },
     "output_type": "display_data"
    }
   ],
   "source": [
    "n = 14\n",
    "min_ratio = 1.9\n",
    "max_ratio = 2.1\n",
    "biomass_predict = df_newBIOMASSES.iloc[:, [4, 5, 6, 7, 8, 9, 11, 13, 14, 15, 16, 17]].iloc[n, :]\n",
    "mesh_df = np.array([biomass_predict for i in range(dim1.size)])\n",
    "mesh_df[:, 3] = dim1.ravel()\n",
    "mesh_df[:, 0] = dim2.ravel()\n",
    "\n",
    "Z = predict_H2CO(mesh_df, model, x_scaler, y_scaler)[0].reshape(dim1.shape)\n",
    "\n",
    "fig, ax = plt.subplots(1, 1, figsize=(5, 5))\n",
    "\n",
    "ax.imshow(Z, cmap=\"RdBu_r\", origin=\"lower\", extent=[973, 1173, 0.33, 2.33])\n",
    "ax.set_aspect(100)\n",
    "ax.set_title(df_newBIOMASSES[\"BIOMASS_name\"][n], fontsize=18)\n",
    "ax.set_xlabel(\"T (K)\", fontsize=16)\n",
    "ax.set_ylabel(\"SA\", fontsize=16)\n",
    "ax.tick_params(labelsize=14)\n",
    "\n",
    "contourlines = ax.contour(\n",
    "    Z,\n",
    "    levels=[min_ratio, max_ratio],\n",
    "    extent=[973, 1173, 0.33, 2.33],\n",
    "    linestyles=\"dashed\",\n",
    "    colors=\"black\",\n",
    "    linewidths=1.5,\n",
    ")\n",
    "\n",
    "norm = plt.Normalize(min(Z.ravel()), max(Z.ravel()))\n",
    "cbar = plt.cm.ScalarMappable(cmap=\"RdBu_r\", norm=norm)\n",
    "\n",
    "ax2 = fig.colorbar(cbar, shrink=0.835, aspect=20, pad=0.04)\n",
    "ax2.outline.set_visible(False)\n",
    "ax2.set_label(output_names[4], labelpad=10, fontsize=16, weight=\"bold\")\n",
    "ax2.ax.tick_params(labelsize=12)\n",
    "ax2.add_lines(contourlines)\n",
    "plt.show()"
   ]
  },
  {
   "cell_type": "code",
   "execution_count": 23,
   "id": "1126e0d9",
   "metadata": {},
   "outputs": [
    {
     "data": {
      "image/png": "[encoded data removed]",
      "text/plain": [
       "<Figure size 360x360 with 2 Axes>"
      ]
     },
     "metadata": {
      "needs_background": "light"
     },
     "output_type": "display_data"
    }
   ],
   "source": [
    "n = 38\n",
    "min_ratio = 1.9\n",
    "max_ratio = 2.1\n",
    "biomass_predict = df_newBIOMASSES.iloc[:, [4, 5, 6, 7, 8, 9, 11, 13, 14, 15, 16, 17]].iloc[n, :]\n",
    "mesh_df = np.array([biomass_predict for i in range(dim1.size)])\n",
    "mesh_df[:, 3] = dim1.ravel()\n",
    "mesh_df[:, 0] = dim2.ravel()\n",
    "\n",
    "Z = predict_H2CO(mesh_df, model, x_scaler, y_scaler)[0].reshape(dim1.shape)\n",
    "\n",
    "fig, ax = plt.subplots(1, 1, figsize=(5, 5))\n",
    "\n",
    "ax.imshow(Z, cmap=\"RdBu_r\", origin=\"lower\", extent=[973, 1173, 0.33, 2.33])\n",
    "ax.set_aspect(100)\n",
    "ax.set_title(df_newBIOMASSES[\"BIOMASS_name\"][n], fontsize=18)\n",
    "ax.set_xlabel(\"T (K)\", fontsize=16)\n",
    "ax.set_ylabel(\"SA\", fontsize=16)\n",
    "ax.tick_params(labelsize=14)\n",
    "\n",
    "contourlines = ax.contour(\n",
    "    Z,\n",
    "    levels=[min_ratio, max_ratio],\n",
    "    extent=[973, 1173, 0.33, 2.33],\n",
    "    linestyles=\"dashed\",\n",
    "    colors=\"black\",\n",
    "    linewidths=1.5,\n",
    ")\n",
    "\n",
    "norm = plt.Normalize(min(Z.ravel()), max(Z.ravel()))\n",
    "cbar = plt.cm.ScalarMappable(cmap=\"RdBu_r\", norm=norm)\n",
    "\n",
    "ax2 = fig.colorbar(cbar, shrink=0.835, aspect=20, pad=0.04)\n",
    "ax2.outline.set_visible(False)\n",
    "ax2.set_label(output_names[4], labelpad=10, fontsize=16, weight=\"bold\")\n",
    "ax2.ax.tick_params(labelsize=12)\n",
    "ax2.add_lines(contourlines)\n",
    "plt.show()"
   ]
  }
 ],
 "metadata": {
  "kernelspec": {
   "display_name": "Python 3",
   "language": "python",
   "name": "python3"
  },
  "language_info": {
   "codemirror_mode": {
    "name": "ipython",
    "version": 3
   },
   "file_extension": ".py",
   "mimetype": "text/x-python",
   "name": "python",
   "nbconvert_exporter": "python",
   "pygments_lexer": "ipython3",
   "version": "3.8.10 (default, Mar 15 2022, 12:22:08) \n[GCC 9.4.0]"
  },
  "vscode": {
   "interpreter": {
    "hash": "916dbcbb3f70747c44a77c7bcd40155683ae19c65e1c03b4aa3499c5328201f1"
   }
  }
 },
 "nbformat": 4,
 "nbformat_minor": 5
}
