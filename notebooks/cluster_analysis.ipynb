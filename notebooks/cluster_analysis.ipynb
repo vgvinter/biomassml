{
 "cells": [
  {
   "cell_type": "code",
   "execution_count": 1,
   "id": "41c3a852",
   "metadata": {},
   "outputs": [],
   "source": [
    "import os\n",
    "import pandas as pd\n",
    "import matplotlib.pyplot as plt\n",
    "import seaborn as sns\n",
    "\n",
    "%matplotlib inline\n",
    "from sklearn.preprocessing import LabelEncoder\n",
    "from sklearn.cluster import KMeans\n",
    "\n",
    "import biomassml\n",
    "from biomassml.io import *\n",
    "from biomassml.predict_outputs import *\n",
    "\n",
    "DATA_DIR = \".../data/\"\n",
    "MODEL_DIR = \".../models/\"\n",
    "\n",
    "output_names = [\n",
    "    \"CO (vol%)\",\n",
    "    r\"H$_2$ (vol%)\",\n",
    "    r\"CH$_4$ (vol%)\",\n",
    "    \"COMBgas (vol%)\",\n",
    "    r\"H$_2$/CO\",\n",
    "    r\"GAS (m$^3$/kg biom)\",\n",
    "    r\"E$_{\\rm yield}$ (MJ/kg biom)\",\n",
    "]"
   ]
  },
  {
   "cell_type": "markdown",
   "id": "714b2ffb",
   "metadata": {},
   "source": [
    "### load training GASIF dataset"
   ]
  },
  {
   "cell_type": "code",
   "execution_count": 3,
   "id": "48fb3bc4",
   "metadata": {},
   "outputs": [],
   "source": [
    "dfGASIF_dataset = pd.read_csv(os.path.join(DATA_DIR, \"data_GASIF_biomass.csv\"))"
   ]
  },
  {
   "cell_type": "code",
   "execution_count": 4,
   "id": "4638c886",
   "metadata": {
    "scrolled": true
   },
   "outputs": [
    {
     "name": "stdout",
     "output_type": "stream",
     "text": [
      "<class 'pandas.core.frame.DataFrame'>\n",
      "RangeIndex: 30 entries, 0 to 29\n",
      "Data columns (total 21 columns):\n",
      " #   Column            Non-Null Count  Dtype  \n",
      "---  ------            --------------  -----  \n",
      " 0   BIOMASS           30 non-null     object \n",
      " 1   SA                30 non-null     float64\n",
      " 2   SBR               30 non-null     float64\n",
      " 3   HHVbiom (MJ/kg)   30 non-null     float64\n",
      " 4   T (K)             30 non-null     int64  \n",
      " 5   SR                30 non-null     float64\n",
      " 6   C (%)             30 non-null     float64\n",
      " 7   N (%)             30 non-null     float64\n",
      " 8   H (%)             30 non-null     float64\n",
      " 9   S (%)             30 non-null     float64\n",
      " 10  O (%)             30 non-null     float64\n",
      " 11  ash (%)           30 non-null     float64\n",
      " 12  VM (%)            30 non-null     float64\n",
      " 13  FC (%)            30 non-null     float64\n",
      " 14  MC (%)            30 non-null     float64\n",
      " 15  volCO2 (%)        30 non-null     float64\n",
      " 16  volCO (%)         30 non-null     float64\n",
      " 17  volCH4 (%)        30 non-null     float64\n",
      " 18  volH2 (%)         30 non-null     float64\n",
      " 19  volCOMB (%)       30 non-null     float64\n",
      " 20  GAS (m3/kg biom)  30 non-null     float64\n",
      "dtypes: float64(19), int64(1), object(1)\n",
      "memory usage: 5.0+ KB\n"
     ]
    }
   ],
   "source": [
    "dfGASIF_dataset.info()"
   ]
  },
  {
   "cell_type": "code",
   "execution_count": 5,
   "id": "8a96cc34",
   "metadata": {},
   "outputs": [
    {
     "data": {
      "text/html": [
       "<div>\n",
       "<style scoped>\n",
       "    .dataframe tbody tr th:only-of-type {\n",
       "        vertical-align: middle;\n",
       "    }\n",
       "\n",
       "    .dataframe tbody tr th {\n",
       "        vertical-align: top;\n",
       "    }\n",
       "\n",
       "    .dataframe thead th {\n",
       "        text-align: right;\n",
       "    }\n",
       "</style>\n",
       "<table border=\"1\" class=\"dataframe\">\n",
       "  <thead>\n",
       "    <tr style=\"text-align: right;\">\n",
       "      <th></th>\n",
       "      <th>SA</th>\n",
       "      <th>SBR</th>\n",
       "      <th>HHVbiom (MJ/kg)</th>\n",
       "      <th>T (K)</th>\n",
       "      <th>SR</th>\n",
       "      <th>C (%)</th>\n",
       "      <th>H (%)</th>\n",
       "      <th>O (%)</th>\n",
       "      <th>ash (%)</th>\n",
       "      <th>VM (%)</th>\n",
       "      <th>FC (%)</th>\n",
       "      <th>MC (%)</th>\n",
       "    </tr>\n",
       "  </thead>\n",
       "  <tbody>\n",
       "    <tr>\n",
       "      <th>0</th>\n",
       "      <td>2.33</td>\n",
       "      <td>1.1</td>\n",
       "      <td>19.5649</td>\n",
       "      <td>1173</td>\n",
       "      <td>0.13</td>\n",
       "      <td>49.44</td>\n",
       "      <td>5.85</td>\n",
       "      <td>42.9</td>\n",
       "      <td>1.45</td>\n",
       "      <td>78.93</td>\n",
       "      <td>19.62</td>\n",
       "      <td>6.52</td>\n",
       "    </tr>\n",
       "  </tbody>\n",
       "</table>\n",
       "</div>"
      ],
      "text/plain": [
       "     SA  SBR  HHVbiom (MJ/kg)  T (K)    SR  C (%)  H (%)  O (%)  ash (%)  \\\n",
       "0  2.33  1.1          19.5649   1173  0.13  49.44   5.85   42.9     1.45   \n",
       "\n",
       "   VM (%)  FC (%)  MC (%)  \n",
       "0   78.93   19.62    6.52  "
      ]
     },
     "execution_count": 5,
     "metadata": {},
     "output_type": "execute_result"
    }
   ],
   "source": [
    "FEATURES_GASIF = pd.concat(\n",
    "    [dfGASIF_dataset.iloc[:, 1:7], dfGASIF_dataset.iloc[:, [8, 10, 11, 12, 13, 14]]], axis=1\n",
    ")\n",
    "FEATURES_GASIF.head(1)"
   ]
  },
  {
   "cell_type": "code",
   "execution_count": 6,
   "id": "ca07d52b",
   "metadata": {},
   "outputs": [
    {
     "data": {
      "text/html": [
       "<div>\n",
       "<style scoped>\n",
       "    .dataframe tbody tr th:only-of-type {\n",
       "        vertical-align: middle;\n",
       "    }\n",
       "\n",
       "    .dataframe tbody tr th {\n",
       "        vertical-align: top;\n",
       "    }\n",
       "\n",
       "    .dataframe thead th {\n",
       "        text-align: right;\n",
       "    }\n",
       "</style>\n",
       "<table border=\"1\" class=\"dataframe\">\n",
       "  <thead>\n",
       "    <tr style=\"text-align: right;\">\n",
       "      <th></th>\n",
       "      <th>volCO (%)</th>\n",
       "      <th>volH2 (%)</th>\n",
       "      <th>volCOMB (%)</th>\n",
       "      <th>GAS (m3/kg biom)</th>\n",
       "    </tr>\n",
       "  </thead>\n",
       "  <tbody>\n",
       "    <tr>\n",
       "      <th>0</th>\n",
       "      <td>23.6541</td>\n",
       "      <td>36.4296</td>\n",
       "      <td>67.4756</td>\n",
       "      <td>0.7975</td>\n",
       "    </tr>\n",
       "  </tbody>\n",
       "</table>\n",
       "</div>"
      ],
      "text/plain": [
       "   volCO (%)  volH2 (%)  volCOMB (%)  GAS (m3/kg biom)\n",
       "0    23.6541    36.4296      67.4756            0.7975"
      ]
     },
     "execution_count": 6,
     "metadata": {},
     "output_type": "execute_result"
    }
   ],
   "source": [
    "TARGETS_GASIF = dfGASIF_dataset.iloc[:, [16, 18, 19, 20]]\n",
    "TARGETS_GASIF.head(1)"
   ]
  },
  {
   "cell_type": "markdown",
   "id": "fabd5592",
   "metadata": {},
   "source": [
    "#### get scalers from dfGASIF_dataset"
   ]
  },
  {
   "cell_type": "code",
   "execution_count": 7,
   "id": "5b741eca",
   "metadata": {},
   "outputs": [
    {
     "data": {
      "text/plain": [
       "['y_scaler']"
      ]
     },
     "execution_count": 7,
     "metadata": {},
     "output_type": "execute_result"
    }
   ],
   "source": [
    "x_scaler, y_scaler = get_scalers(FEATURES_GASIF, TARGETS_GASIF)\n",
    "joblib.dump(x_scaler, \"x_scaler\")\n",
    "joblib.dump(y_scaler, \"y_scaler\")"
   ]
  },
  {
   "cell_type": "markdown",
   "id": "4208b818",
   "metadata": {},
   "source": [
    "### load model"
   ]
  },
  {
   "cell_type": "code",
   "execution_count": 9,
   "id": "6b610757",
   "metadata": {},
   "outputs": [],
   "source": [
    "model = load_joblib(os.path.join(MODEL_DIR, \"model_GPR_retrained\"))"
   ]
  },
  {
   "cell_type": "markdown",
   "id": "4e42c35e",
   "metadata": {},
   "source": [
    "### predictions for NEW BIOMASSES"
   ]
  },
  {
   "cell_type": "code",
   "execution_count": 10,
   "id": "8226530a",
   "metadata": {},
   "outputs": [],
   "source": [
    "df_newBIOMASSES = pd.read_csv(os.path.join(DATA_DIR, \"data_NEW_biomasses.csv\"))"
   ]
  },
  {
   "cell_type": "code",
   "execution_count": 11,
   "id": "21d4954d",
   "metadata": {
    "scrolled": true
   },
   "outputs": [
    {
     "name": "stdout",
     "output_type": "stream",
     "text": [
      "<class 'pandas.core.frame.DataFrame'>\n",
      "RangeIndex: 68 entries, 0 to 67\n",
      "Data columns (total 19 columns):\n",
      " #   Column           Non-Null Count  Dtype  \n",
      "---  ------           --------------  -----  \n",
      " 0   BIOMASS_name     68 non-null     object \n",
      " 1   BIOMASS_name2    68 non-null     object \n",
      " 2   BIOMASS          68 non-null     object \n",
      " 3   ORIGIN           68 non-null     object \n",
      " 4   SA               68 non-null     float64\n",
      " 5   SBR              68 non-null     float64\n",
      " 6   HHVbiom (MJ/kg)  68 non-null     float64\n",
      " 7   T (K)            68 non-null     int64  \n",
      " 8   SR               68 non-null     float64\n",
      " 9   C (%)            68 non-null     float64\n",
      " 10  N (%)            68 non-null     float64\n",
      " 11  H (%)            68 non-null     float64\n",
      " 12  S (%)            68 non-null     float64\n",
      " 13  O (%)            68 non-null     float64\n",
      " 14  ash (%)          68 non-null     float64\n",
      " 15  VM (%)           68 non-null     float64\n",
      " 16  FC (%)           68 non-null     float64\n",
      " 17  MC (%)           68 non-null     float64\n",
      " 18  REFERENCE        68 non-null     object \n",
      "dtypes: float64(13), int64(1), object(5)\n",
      "memory usage: 10.2+ KB\n"
     ]
    }
   ],
   "source": [
    "df_newBIOMASSES.info()"
   ]
  },
  {
   "cell_type": "markdown",
   "id": "331742ce",
   "metadata": {},
   "source": [
    "#### T = 1173 K, SA = 2.3333"
   ]
  },
  {
   "cell_type": "code",
   "execution_count": 12,
   "id": "fff57856",
   "metadata": {
    "scrolled": true
   },
   "outputs": [
    {
     "data": {
      "text/html": [
       "<div>\n",
       "<style scoped>\n",
       "    .dataframe tbody tr th:only-of-type {\n",
       "        vertical-align: middle;\n",
       "    }\n",
       "\n",
       "    .dataframe tbody tr th {\n",
       "        vertical-align: top;\n",
       "    }\n",
       "\n",
       "    .dataframe thead th {\n",
       "        text-align: right;\n",
       "    }\n",
       "</style>\n",
       "<table border=\"1\" class=\"dataframe\">\n",
       "  <thead>\n",
       "    <tr style=\"text-align: right;\">\n",
       "      <th></th>\n",
       "      <th>SA</th>\n",
       "      <th>SBR</th>\n",
       "      <th>HHVbiom (MJ/kg)</th>\n",
       "      <th>T (K)</th>\n",
       "      <th>SR</th>\n",
       "      <th>C (%)</th>\n",
       "      <th>H (%)</th>\n",
       "      <th>O (%)</th>\n",
       "      <th>ash (%)</th>\n",
       "      <th>VM (%)</th>\n",
       "      <th>FC (%)</th>\n",
       "      <th>MC (%)</th>\n",
       "    </tr>\n",
       "  </thead>\n",
       "  <tbody>\n",
       "    <tr>\n",
       "      <th>0</th>\n",
       "      <td>2.3333</td>\n",
       "      <td>2.0502</td>\n",
       "      <td>18.77</td>\n",
       "      <td>1173</td>\n",
       "      <td>0.25</td>\n",
       "      <td>46.50</td>\n",
       "      <td>5.97</td>\n",
       "      <td>40.16</td>\n",
       "      <td>6.18</td>\n",
       "      <td>73.21</td>\n",
       "      <td>20.61</td>\n",
       "      <td>8.18</td>\n",
       "    </tr>\n",
       "    <tr>\n",
       "      <th>1</th>\n",
       "      <td>2.3333</td>\n",
       "      <td>2.2003</td>\n",
       "      <td>19.05</td>\n",
       "      <td>1173</td>\n",
       "      <td>0.25</td>\n",
       "      <td>50.14</td>\n",
       "      <td>5.95</td>\n",
       "      <td>40.10</td>\n",
       "      <td>3.04</td>\n",
       "      <td>76.10</td>\n",
       "      <td>20.86</td>\n",
       "      <td>7.85</td>\n",
       "    </tr>\n",
       "  </tbody>\n",
       "</table>\n",
       "</div>"
      ],
      "text/plain": [
       "       SA     SBR  HHVbiom (MJ/kg)  T (K)    SR  C (%)  H (%)  O (%)  ash (%)  \\\n",
       "0  2.3333  2.0502            18.77   1173  0.25  46.50   5.97  40.16     6.18   \n",
       "1  2.3333  2.2003            19.05   1173  0.25  50.14   5.95  40.10     3.04   \n",
       "\n",
       "   VM (%)  FC (%)  MC (%)  \n",
       "0   73.21   20.61    8.18  \n",
       "1   76.10   20.86    7.85  "
      ]
     },
     "execution_count": 12,
     "metadata": {},
     "output_type": "execute_result"
    }
   ],
   "source": [
    "FEATURES_NEWbiomass = pd.concat(\n",
    "    [df_newBIOMASSES.iloc[:, 4:10], df_newBIOMASSES.iloc[:, [11, 13, 14, 15, 16, 17]]], axis=1\n",
    ")\n",
    "FEATURES_NEWbiomass.head(2)"
   ]
  },
  {
   "cell_type": "code",
   "execution_count": 13,
   "id": "30be4d72",
   "metadata": {},
   "outputs": [],
   "source": [
    "X = FEATURES_NEWbiomass\n",
    "y = TARGETS_GASIF\n",
    "\n",
    "y_pred_mu_CO = predict_CO(X, model, x_scaler, y_scaler)[0]\n",
    "y_pred_std_CO = predict_CO(X, model, x_scaler, y_scaler)[1]\n",
    "\n",
    "y_pred_mu_H2 = predict_H2(X, model, x_scaler, y_scaler)[0]\n",
    "y_pred_std_H2 = predict_H2(X, model, x_scaler, y_scaler)[1]\n",
    "\n",
    "y_pred_mu_COMB = predict_COMB(X, model, x_scaler, y_scaler)[0]\n",
    "y_pred_std_COMB = predict_COMB(X, model, x_scaler, y_scaler)[1]\n",
    "\n",
    "y_pred_mu_GAS = predict_GAS(X, model, x_scaler, y_scaler)[0]\n",
    "y_pred_std_GAS = predict_GAS(X, model, x_scaler, y_scaler)[1]\n",
    "\n",
    "y_pred_mu_CH4 = predict_CH4_covar(X, y, model, x_scaler, y_scaler)[0]\n",
    "y_pred_std_CH4_covar = predict_CH4_covar(X, y, model, x_scaler, y_scaler)[1]\n",
    "\n",
    "y_pred_mu_H2CO = predict_H2CO(X, model, x_scaler, y_scaler)[0]\n",
    "y_pred_std_H2CO = predict_H2CO(X, model, x_scaler, y_scaler)[1]\n",
    "\n",
    "y_pred_mu_Eyield = predict_Eyield(X, model, x_scaler, y_scaler)[0]\n",
    "y_pred_std_Eyield = predict_Eyield(X, model, x_scaler, y_scaler)[1]\n",
    "\n",
    "df_predictions_mu = pd.DataFrame(\n",
    "    np.hstack(\n",
    "        (\n",
    "            y_pred_mu_CO,\n",
    "            y_pred_mu_H2,\n",
    "            y_pred_mu_CH4,\n",
    "            y_pred_mu_COMB,\n",
    "            y_pred_mu_H2CO,\n",
    "            y_pred_mu_GAS,\n",
    "            y_pred_mu_Eyield,\n",
    "        )\n",
    "    ),\n",
    "    columns=output_names,\n",
    ")\n",
    "df_predictions_mu[\"BIOMASS\"] = df_newBIOMASSES[\"BIOMASS\"]\n",
    "df_predictions_std = pd.DataFrame(\n",
    "    np.hstack(\n",
    "        (\n",
    "            y_pred_std_CO,\n",
    "            y_pred_std_H2,\n",
    "            y_pred_std_CH4_covar.reshape(-1, 1),\n",
    "            y_pred_std_COMB,\n",
    "            y_pred_std_H2CO,\n",
    "            y_pred_std_GAS,\n",
    "            y_pred_std_Eyield,\n",
    "        )\n",
    "    ),\n",
    "    columns=output_names,\n",
    ")"
   ]
  },
  {
   "cell_type": "code",
   "execution_count": 14,
   "id": "93b8f62d",
   "metadata": {},
   "outputs": [
    {
     "data": {
      "text/html": [
       "<div>\n",
       "<style scoped>\n",
       "    .dataframe tbody tr th:only-of-type {\n",
       "        vertical-align: middle;\n",
       "    }\n",
       "\n",
       "    .dataframe tbody tr th {\n",
       "        vertical-align: top;\n",
       "    }\n",
       "\n",
       "    .dataframe thead th {\n",
       "        text-align: right;\n",
       "    }\n",
       "</style>\n",
       "<table border=\"1\" class=\"dataframe\">\n",
       "  <thead>\n",
       "    <tr style=\"text-align: right;\">\n",
       "      <th></th>\n",
       "      <th>CO (vol%)</th>\n",
       "      <th>H$_2$ (vol%)</th>\n",
       "      <th>CH$_4$ (vol%)</th>\n",
       "      <th>COMBgas (vol%)</th>\n",
       "      <th>H$_2$/CO</th>\n",
       "      <th>GAS (m$^3$/kg biom)</th>\n",
       "      <th>E$_{\\rm yield}$ (MJ/kg biom)</th>\n",
       "      <th>BIOMASS</th>\n",
       "    </tr>\n",
       "  </thead>\n",
       "  <tbody>\n",
       "    <tr>\n",
       "      <th>0</th>\n",
       "      <td>16.6691</td>\n",
       "      <td>34.579061</td>\n",
       "      <td>7.537308</td>\n",
       "      <td>58.785469</td>\n",
       "      <td>2.074441</td>\n",
       "      <td>0.826763</td>\n",
       "      <td>7.324771</td>\n",
       "      <td>ALH</td>\n",
       "    </tr>\n",
       "  </tbody>\n",
       "</table>\n",
       "</div>"
      ],
      "text/plain": [
       "   CO (vol%)  H$_2$ (vol%)  CH$_4$ (vol%)  COMBgas (vol%)  H$_2$/CO  \\\n",
       "0    16.6691     34.579061       7.537308       58.785469  2.074441   \n",
       "\n",
       "   GAS (m$^3$/kg biom)  E$_{\\rm yield}$ (MJ/kg biom) BIOMASS  \n",
       "0             0.826763                      7.324771     ALH  "
      ]
     },
     "execution_count": 14,
     "metadata": {},
     "output_type": "execute_result"
    }
   ],
   "source": [
    "df_predictions_mu.head(1)"
   ]
  },
  {
   "cell_type": "code",
   "execution_count": 15,
   "id": "7f840c7b",
   "metadata": {},
   "outputs": [
    {
     "data": {
      "text/html": [
       "<div>\n",
       "<style scoped>\n",
       "    .dataframe tbody tr th:only-of-type {\n",
       "        vertical-align: middle;\n",
       "    }\n",
       "\n",
       "    .dataframe tbody tr th {\n",
       "        vertical-align: top;\n",
       "    }\n",
       "\n",
       "    .dataframe thead th {\n",
       "        text-align: right;\n",
       "    }\n",
       "</style>\n",
       "<table border=\"1\" class=\"dataframe\">\n",
       "  <thead>\n",
       "    <tr style=\"text-align: right;\">\n",
       "      <th></th>\n",
       "      <th>CO (vol%)</th>\n",
       "      <th>H$_2$ (vol%)</th>\n",
       "      <th>CH$_4$ (vol%)</th>\n",
       "      <th>COMBgas (vol%)</th>\n",
       "      <th>H$_2$/CO</th>\n",
       "      <th>GAS (m$^3$/kg biom)</th>\n",
       "      <th>E$_{\\rm yield}$ (MJ/kg biom)</th>\n",
       "    </tr>\n",
       "  </thead>\n",
       "  <tbody>\n",
       "    <tr>\n",
       "      <th>0</th>\n",
       "      <td>2.496099</td>\n",
       "      <td>2.019309</td>\n",
       "      <td>1.561786</td>\n",
       "      <td>3.062825</td>\n",
       "      <td>0.333421</td>\n",
       "      <td>0.146567</td>\n",
       "      <td>1.905054</td>\n",
       "    </tr>\n",
       "  </tbody>\n",
       "</table>\n",
       "</div>"
      ],
      "text/plain": [
       "   CO (vol%)  H$_2$ (vol%)  CH$_4$ (vol%)  COMBgas (vol%)  H$_2$/CO  \\\n",
       "0   2.496099      2.019309       1.561786        3.062825  0.333421   \n",
       "\n",
       "   GAS (m$^3$/kg biom)  E$_{\\rm yield}$ (MJ/kg biom)  \n",
       "0             0.146567                      1.905054  "
      ]
     },
     "execution_count": 15,
     "metadata": {},
     "output_type": "execute_result"
    }
   ],
   "source": [
    "df_predictions_std.head(1)"
   ]
  },
  {
   "cell_type": "code",
   "execution_count": 16,
   "id": "c9a80a5b",
   "metadata": {},
   "outputs": [
    {
     "data": {
      "text/html": [
       "<div>\n",
       "<style scoped>\n",
       "    .dataframe tbody tr th:only-of-type {\n",
       "        vertical-align: middle;\n",
       "    }\n",
       "\n",
       "    .dataframe tbody tr th {\n",
       "        vertical-align: top;\n",
       "    }\n",
       "\n",
       "    .dataframe thead th {\n",
       "        text-align: right;\n",
       "    }\n",
       "</style>\n",
       "<table border=\"1\" class=\"dataframe\">\n",
       "  <thead>\n",
       "    <tr style=\"text-align: right;\">\n",
       "      <th></th>\n",
       "      <th>CO (vol%)</th>\n",
       "      <th>H$_2$ (vol%)</th>\n",
       "      <th>CH$_4$ (vol%)</th>\n",
       "      <th>COMBgas (vol%)</th>\n",
       "      <th>H$_2$/CO</th>\n",
       "      <th>GAS (m$^3$/kg biom)</th>\n",
       "      <th>E$_{\\rm yield}$ (MJ/kg biom)</th>\n",
       "      <th>BIOMASS</th>\n",
       "      <th>BIOMASS_name</th>\n",
       "    </tr>\n",
       "  </thead>\n",
       "  <tbody>\n",
       "    <tr>\n",
       "      <th>0</th>\n",
       "      <td>16.6691</td>\n",
       "      <td>34.579061</td>\n",
       "      <td>7.537308</td>\n",
       "      <td>58.785469</td>\n",
       "      <td>2.074441</td>\n",
       "      <td>0.826763</td>\n",
       "      <td>7.324771</td>\n",
       "      <td>ALH</td>\n",
       "      <td>almond hulls</td>\n",
       "    </tr>\n",
       "  </tbody>\n",
       "</table>\n",
       "</div>"
      ],
      "text/plain": [
       "   CO (vol%)  H$_2$ (vol%)  CH$_4$ (vol%)  COMBgas (vol%)  H$_2$/CO  \\\n",
       "0    16.6691     34.579061       7.537308       58.785469  2.074441   \n",
       "\n",
       "   GAS (m$^3$/kg biom)  E$_{\\rm yield}$ (MJ/kg biom) BIOMASS  BIOMASS_name  \n",
       "0             0.826763                      7.324771     ALH  almond hulls  "
      ]
     },
     "execution_count": 16,
     "metadata": {},
     "output_type": "execute_result"
    }
   ],
   "source": [
    "df_predictions_mu = pd.concat([df_predictions_mu, df_newBIOMASSES[\"BIOMASS_name\"]], axis=1)\n",
    "df_predictions_mu.head(1)"
   ]
  },
  {
   "cell_type": "code",
   "execution_count": 17,
   "id": "96100cdf",
   "metadata": {},
   "outputs": [
    {
     "data": {
      "text/html": [
       "<div>\n",
       "<style scoped>\n",
       "    .dataframe tbody tr th:only-of-type {\n",
       "        vertical-align: middle;\n",
       "    }\n",
       "\n",
       "    .dataframe tbody tr th {\n",
       "        vertical-align: top;\n",
       "    }\n",
       "\n",
       "    .dataframe thead th {\n",
       "        text-align: right;\n",
       "    }\n",
       "</style>\n",
       "<table border=\"1\" class=\"dataframe\">\n",
       "  <thead>\n",
       "    <tr style=\"text-align: right;\">\n",
       "      <th></th>\n",
       "      <th>CO (vol%)</th>\n",
       "      <th>H$_2$ (vol%)</th>\n",
       "      <th>CH$_4$ (vol%)</th>\n",
       "      <th>COMBgas (vol%)</th>\n",
       "      <th>H$_2$/CO</th>\n",
       "      <th>GAS (m$^3$/kg biom)</th>\n",
       "      <th>E$_{\\rm yield}$ (MJ/kg biom)</th>\n",
       "      <th>BIOMASS</th>\n",
       "      <th>BIOMASS_name</th>\n",
       "      <th>ORIGIN</th>\n",
       "    </tr>\n",
       "  </thead>\n",
       "  <tbody>\n",
       "    <tr>\n",
       "      <th>0</th>\n",
       "      <td>16.6691</td>\n",
       "      <td>34.579061</td>\n",
       "      <td>7.537308</td>\n",
       "      <td>58.785469</td>\n",
       "      <td>2.074441</td>\n",
       "      <td>0.826763</td>\n",
       "      <td>7.324771</td>\n",
       "      <td>ALH</td>\n",
       "      <td>almond hulls</td>\n",
       "      <td>fruit bunches</td>\n",
       "    </tr>\n",
       "  </tbody>\n",
       "</table>\n",
       "</div>"
      ],
      "text/plain": [
       "   CO (vol%)  H$_2$ (vol%)  CH$_4$ (vol%)  COMBgas (vol%)  H$_2$/CO  \\\n",
       "0    16.6691     34.579061       7.537308       58.785469  2.074441   \n",
       "\n",
       "   GAS (m$^3$/kg biom)  E$_{\\rm yield}$ (MJ/kg biom) BIOMASS  BIOMASS_name  \\\n",
       "0             0.826763                      7.324771     ALH  almond hulls   \n",
       "\n",
       "          ORIGIN  \n",
       "0  fruit bunches  "
      ]
     },
     "execution_count": 17,
     "metadata": {},
     "output_type": "execute_result"
    }
   ],
   "source": [
    "df_predictions_mu = pd.concat([df_predictions_mu, df_newBIOMASSES[\"ORIGIN\"]], axis=1)\n",
    "df_predictions_mu.head(1)"
   ]
  },
  {
   "cell_type": "markdown",
   "id": "630b61eb",
   "metadata": {},
   "source": [
    "### cluster analysis: K-Means"
   ]
  },
  {
   "cell_type": "code",
   "execution_count": 18,
   "id": "e1f43eff",
   "metadata": {},
   "outputs": [
    {
     "data": {
      "text/html": [
       "<div>\n",
       "<style scoped>\n",
       "    .dataframe tbody tr th:only-of-type {\n",
       "        vertical-align: middle;\n",
       "    }\n",
       "\n",
       "    .dataframe tbody tr th {\n",
       "        vertical-align: top;\n",
       "    }\n",
       "\n",
       "    .dataframe thead th {\n",
       "        text-align: right;\n",
       "    }\n",
       "</style>\n",
       "<table border=\"1\" class=\"dataframe\">\n",
       "  <thead>\n",
       "    <tr style=\"text-align: right;\">\n",
       "      <th></th>\n",
       "      <th>SA</th>\n",
       "      <th>SBR</th>\n",
       "      <th>HHVbiom (MJ/kg)</th>\n",
       "      <th>T (K)</th>\n",
       "      <th>SR</th>\n",
       "      <th>C (%)</th>\n",
       "      <th>H (%)</th>\n",
       "      <th>O (%)</th>\n",
       "      <th>ash (%)</th>\n",
       "      <th>VM (%)</th>\n",
       "      <th>FC (%)</th>\n",
       "      <th>MC (%)</th>\n",
       "    </tr>\n",
       "  </thead>\n",
       "  <tbody>\n",
       "    <tr>\n",
       "      <th>0</th>\n",
       "      <td>2.3333</td>\n",
       "      <td>2.0502</td>\n",
       "      <td>18.77</td>\n",
       "      <td>1173</td>\n",
       "      <td>0.25</td>\n",
       "      <td>46.5</td>\n",
       "      <td>5.97</td>\n",
       "      <td>40.16</td>\n",
       "      <td>6.18</td>\n",
       "      <td>73.21</td>\n",
       "      <td>20.61</td>\n",
       "      <td>8.18</td>\n",
       "    </tr>\n",
       "  </tbody>\n",
       "</table>\n",
       "</div>"
      ],
      "text/plain": [
       "       SA     SBR  HHVbiom (MJ/kg)  T (K)    SR  C (%)  H (%)  O (%)  ash (%)  \\\n",
       "0  2.3333  2.0502            18.77   1173  0.25   46.5   5.97  40.16     6.18   \n",
       "\n",
       "   VM (%)  FC (%)  MC (%)  \n",
       "0   73.21   20.61    8.18  "
      ]
     },
     "execution_count": 18,
     "metadata": {},
     "output_type": "execute_result"
    }
   ],
   "source": [
    "FEATURES_NEWbiomass.head(1)"
   ]
  },
  {
   "cell_type": "code",
   "execution_count": 19,
   "id": "2ea239a4",
   "metadata": {},
   "outputs": [
    {
     "data": {
      "text/html": [
       "<div>\n",
       "<style scoped>\n",
       "    .dataframe tbody tr th:only-of-type {\n",
       "        vertical-align: middle;\n",
       "    }\n",
       "\n",
       "    .dataframe tbody tr th {\n",
       "        vertical-align: top;\n",
       "    }\n",
       "\n",
       "    .dataframe thead th {\n",
       "        text-align: right;\n",
       "    }\n",
       "</style>\n",
       "<table border=\"1\" class=\"dataframe\">\n",
       "  <thead>\n",
       "    <tr style=\"text-align: right;\">\n",
       "      <th></th>\n",
       "      <th>CO (vol%)</th>\n",
       "      <th>H$_2$ (vol%)</th>\n",
       "      <th>CH$_4$ (vol%)</th>\n",
       "      <th>COMBgas (vol%)</th>\n",
       "      <th>H$_2$/CO</th>\n",
       "      <th>GAS (m$^3$/kg biom)</th>\n",
       "      <th>E$_{\\rm yield}$ (MJ/kg biom)</th>\n",
       "      <th>BIOMASS</th>\n",
       "      <th>BIOMASS_name</th>\n",
       "      <th>ORIGIN</th>\n",
       "    </tr>\n",
       "  </thead>\n",
       "  <tbody>\n",
       "    <tr>\n",
       "      <th>0</th>\n",
       "      <td>16.6691</td>\n",
       "      <td>34.579061</td>\n",
       "      <td>7.537308</td>\n",
       "      <td>58.785469</td>\n",
       "      <td>2.074441</td>\n",
       "      <td>0.826763</td>\n",
       "      <td>7.324771</td>\n",
       "      <td>ALH</td>\n",
       "      <td>almond hulls</td>\n",
       "      <td>fruit bunches</td>\n",
       "    </tr>\n",
       "  </tbody>\n",
       "</table>\n",
       "</div>"
      ],
      "text/plain": [
       "   CO (vol%)  H$_2$ (vol%)  CH$_4$ (vol%)  COMBgas (vol%)  H$_2$/CO  \\\n",
       "0    16.6691     34.579061       7.537308       58.785469  2.074441   \n",
       "\n",
       "   GAS (m$^3$/kg biom)  E$_{\\rm yield}$ (MJ/kg biom) BIOMASS  BIOMASS_name  \\\n",
       "0             0.826763                      7.324771     ALH  almond hulls   \n",
       "\n",
       "          ORIGIN  \n",
       "0  fruit bunches  "
      ]
     },
     "execution_count": 19,
     "metadata": {},
     "output_type": "execute_result"
    }
   ],
   "source": [
    "df_predictions_mu.head(1)"
   ]
  },
  {
   "cell_type": "code",
   "execution_count": 20,
   "id": "522bd7ac",
   "metadata": {},
   "outputs": [
    {
     "data": {
      "text/html": [
       "<div>\n",
       "<style scoped>\n",
       "    .dataframe tbody tr th:only-of-type {\n",
       "        vertical-align: middle;\n",
       "    }\n",
       "\n",
       "    .dataframe tbody tr th {\n",
       "        vertical-align: top;\n",
       "    }\n",
       "\n",
       "    .dataframe thead th {\n",
       "        text-align: right;\n",
       "    }\n",
       "</style>\n",
       "<table border=\"1\" class=\"dataframe\">\n",
       "  <thead>\n",
       "    <tr style=\"text-align: right;\">\n",
       "      <th></th>\n",
       "      <th>CO (vol%)</th>\n",
       "      <th>H$_2$ (vol%)</th>\n",
       "      <th>CH$_4$ (vol%)</th>\n",
       "      <th>COMBgas (vol%)</th>\n",
       "      <th>H$_2$/CO</th>\n",
       "      <th>GAS (m$^3$/kg biom)</th>\n",
       "      <th>E$_{\\rm yield}$ (MJ/kg biom)</th>\n",
       "    </tr>\n",
       "  </thead>\n",
       "  <tbody>\n",
       "    <tr>\n",
       "      <th>0</th>\n",
       "      <td>16.6691</td>\n",
       "      <td>34.579061</td>\n",
       "      <td>7.537308</td>\n",
       "      <td>58.785469</td>\n",
       "      <td>2.074441</td>\n",
       "      <td>0.826763</td>\n",
       "      <td>7.324771</td>\n",
       "    </tr>\n",
       "  </tbody>\n",
       "</table>\n",
       "</div>"
      ],
      "text/plain": [
       "   CO (vol%)  H$_2$ (vol%)  CH$_4$ (vol%)  COMBgas (vol%)  H$_2$/CO  \\\n",
       "0    16.6691     34.579061       7.537308       58.785469  2.074441   \n",
       "\n",
       "   GAS (m$^3$/kg biom)  E$_{\\rm yield}$ (MJ/kg biom)  \n",
       "0             0.826763                      7.324771  "
      ]
     },
     "execution_count": 20,
     "metadata": {},
     "output_type": "execute_result"
    }
   ],
   "source": [
    "TARGETS_NEWbiomass = df_predictions_mu.iloc[:, 0:7]\n",
    "TARGETS_NEWbiomass.head(1)"
   ]
  },
  {
   "cell_type": "code",
   "execution_count": 21,
   "id": "43d4f35f",
   "metadata": {},
   "outputs": [
    {
     "data": {
      "text/html": [
       "<div>\n",
       "<style scoped>\n",
       "    .dataframe tbody tr th:only-of-type {\n",
       "        vertical-align: middle;\n",
       "    }\n",
       "\n",
       "    .dataframe tbody tr th {\n",
       "        vertical-align: top;\n",
       "    }\n",
       "\n",
       "    .dataframe thead th {\n",
       "        text-align: right;\n",
       "    }\n",
       "</style>\n",
       "<table border=\"1\" class=\"dataframe\">\n",
       "  <thead>\n",
       "    <tr style=\"text-align: right;\">\n",
       "      <th></th>\n",
       "      <th>H$_2$/CO</th>\n",
       "      <th>BIOMASS</th>\n",
       "    </tr>\n",
       "  </thead>\n",
       "  <tbody>\n",
       "    <tr>\n",
       "      <th>0</th>\n",
       "      <td>2.074441</td>\n",
       "      <td>ALH</td>\n",
       "    </tr>\n",
       "  </tbody>\n",
       "</table>\n",
       "</div>"
      ],
      "text/plain": [
       "   H$_2$/CO BIOMASS\n",
       "0  2.074441     ALH"
      ]
     },
     "execution_count": 21,
     "metadata": {},
     "output_type": "execute_result"
    }
   ],
   "source": [
    "TARGETS_GASIF_KPI = df_predictions_mu.iloc[:, [4, 7]]\n",
    "TARGETS_GASIF_KPI.head(1)"
   ]
  },
  {
   "cell_type": "code",
   "execution_count": 22,
   "id": "b916a747",
   "metadata": {},
   "outputs": [
    {
     "data": {
      "text/plain": [
       "(68,)"
      ]
     },
     "execution_count": 22,
     "metadata": {},
     "output_type": "execute_result"
    }
   ],
   "source": [
    "y_labels = np.array(df_predictions_mu[\"ORIGIN\"])\n",
    "y_labels.shape"
   ]
  },
  {
   "cell_type": "code",
   "execution_count": 23,
   "id": "076cd757",
   "metadata": {},
   "outputs": [],
   "source": [
    "label_encoder = LabelEncoder()\n",
    "y_true_labels = label_encoder.fit_transform(y_labels)"
   ]
  },
  {
   "cell_type": "code",
   "execution_count": 24,
   "id": "d274d404",
   "metadata": {
    "scrolled": true
   },
   "outputs": [
    {
     "data": {
      "text/plain": [
       "array(['bagasse', 'bark', 'fruit bunches', 'fruit pits', 'fruit shells',\n",
       "       'fruit waste', 'grass', 'nut shells', 'seeds', 'stalks', 'straw',\n",
       "       'torrefied wood', 'wood'], dtype=object)"
      ]
     },
     "execution_count": 24,
     "metadata": {},
     "output_type": "execute_result"
    }
   ],
   "source": [
    "label_encoder.classes_"
   ]
  },
  {
   "cell_type": "code",
   "execution_count": 25,
   "id": "ef25caf1",
   "metadata": {},
   "outputs": [],
   "source": [
    "hue_order = [\n",
    "    \"wood\",\n",
    "    \"fruit pits\",\n",
    "    \"torrefied wood\",\n",
    "    \"seeds\",\n",
    "    \"straw\",\n",
    "    \"grass\",\n",
    "    \"bark\",\n",
    "    \"bagasse\",\n",
    "    \"fruit waste\",\n",
    "    \"fruit shells\",\n",
    "    \"fruit bunches\",\n",
    "    \"stalks\",\n",
    "    \"nut shells\",\n",
    "]"
   ]
  },
  {
   "cell_type": "markdown",
   "id": "a5a52583",
   "metadata": {},
   "source": [
    "#### K-Means 4 clusters"
   ]
  },
  {
   "cell_type": "code",
   "execution_count": 26,
   "id": "275392ce",
   "metadata": {},
   "outputs": [],
   "source": [
    "colors = [\"#134c87\", \"#75b2d4\", \"#8d0c25\", \"#7f7f7f\"]"
   ]
  },
  {
   "cell_type": "code",
   "execution_count": 27,
   "id": "48cfcea7",
   "metadata": {},
   "outputs": [
    {
     "data": {
      "text/html": [
       "<div>\n",
       "<style scoped>\n",
       "    .dataframe tbody tr th:only-of-type {\n",
       "        vertical-align: middle;\n",
       "    }\n",
       "\n",
       "    .dataframe tbody tr th {\n",
       "        vertical-align: top;\n",
       "    }\n",
       "\n",
       "    .dataframe thead th {\n",
       "        text-align: right;\n",
       "    }\n",
       "</style>\n",
       "<table border=\"1\" class=\"dataframe\">\n",
       "  <thead>\n",
       "    <tr style=\"text-align: right;\">\n",
       "      <th></th>\n",
       "      <th>CO (vol%)</th>\n",
       "      <th>H$_2$ (vol%)</th>\n",
       "      <th>CH$_4$ (vol%)</th>\n",
       "      <th>COMBgas (vol%)</th>\n",
       "      <th>H$_2$/CO</th>\n",
       "      <th>GAS (m$^3$/kg biom)</th>\n",
       "      <th>E$_{\\rm yield}$ (MJ/kg biom)</th>\n",
       "    </tr>\n",
       "  </thead>\n",
       "  <tbody>\n",
       "    <tr>\n",
       "      <th>0</th>\n",
       "      <td>16.6691</td>\n",
       "      <td>34.579061</td>\n",
       "      <td>7.537308</td>\n",
       "      <td>58.785469</td>\n",
       "      <td>2.074441</td>\n",
       "      <td>0.826763</td>\n",
       "      <td>7.324771</td>\n",
       "    </tr>\n",
       "  </tbody>\n",
       "</table>\n",
       "</div>"
      ],
      "text/plain": [
       "   CO (vol%)  H$_2$ (vol%)  CH$_4$ (vol%)  COMBgas (vol%)  H$_2$/CO  \\\n",
       "0    16.6691     34.579061       7.537308       58.785469  2.074441   \n",
       "\n",
       "   GAS (m$^3$/kg biom)  E$_{\\rm yield}$ (MJ/kg biom)  \n",
       "0             0.826763                      7.324771  "
      ]
     },
     "execution_count": 27,
     "metadata": {},
     "output_type": "execute_result"
    }
   ],
   "source": [
    "TARGETS_NEWbiomass.head(1)"
   ]
  },
  {
   "cell_type": "code",
   "execution_count": 28,
   "id": "c286add2",
   "metadata": {},
   "outputs": [
    {
     "data": {
      "text/plain": [
       "(68, 7)"
      ]
     },
     "execution_count": 28,
     "metadata": {},
     "output_type": "execute_result"
    }
   ],
   "source": [
    "_, y_scaler_cluster = get_scalers(FEATURES_NEWbiomass, TARGETS_NEWbiomass)\n",
    "TARGETS_scaled = y_scaler_cluster.transform(TARGETS_NEWbiomass)\n",
    "X = TARGETS_scaled\n",
    "X.shape"
   ]
  },
  {
   "cell_type": "code",
   "execution_count": 29,
   "id": "44456fed",
   "metadata": {},
   "outputs": [
    {
     "data": {
      "text/plain": [
       "KMeans(max_iter=500, n_clusters=4, n_init=50, random_state=42)"
      ]
     },
     "execution_count": 29,
     "metadata": {},
     "output_type": "execute_result"
    }
   ],
   "source": [
    "kmeans = KMeans(\n",
    "    init=\"k-means++\", n_clusters=4, n_init=50, max_iter=500, random_state=42, algorithm=\"auto\"\n",
    ")\n",
    "\n",
    "kmeans.fit(X)"
   ]
  },
  {
   "cell_type": "code",
   "execution_count": 30,
   "id": "b04d1921",
   "metadata": {},
   "outputs": [
    {
     "data": {
      "text/plain": [
       "array([[-0.27047374,  1.51691639, -0.75291678,  0.07205945,  0.30867286,\n",
       "         1.00526026,  0.57937381],\n",
       "       [ 0.03942175, -0.48521494,  0.3376796 , -0.04931666, -0.37430403,\n",
       "        -0.21814941, -0.19030488],\n",
       "       [-1.05380224,  0.4929646 , -0.97369447, -1.09434161,  1.1066281 ,\n",
       "        -1.08694423, -1.09179937],\n",
       "       [ 1.39882195, -0.96002868,  1.27067852,  1.34681226, -1.14972635,\n",
       "         0.98815889,  1.202852  ]])"
      ]
     },
     "execution_count": 30,
     "metadata": {},
     "output_type": "execute_result"
    }
   ],
   "source": [
    "kmeans.cluster_centers_"
   ]
  },
  {
   "cell_type": "code",
   "execution_count": 31,
   "id": "c683cbe6",
   "metadata": {},
   "outputs": [
    {
     "data": {
      "text/html": [
       "<div>\n",
       "<style scoped>\n",
       "    .dataframe tbody tr th:only-of-type {\n",
       "        vertical-align: middle;\n",
       "    }\n",
       "\n",
       "    .dataframe tbody tr th {\n",
       "        vertical-align: top;\n",
       "    }\n",
       "\n",
       "    .dataframe thead th {\n",
       "        text-align: right;\n",
       "    }\n",
       "</style>\n",
       "<table border=\"1\" class=\"dataframe\">\n",
       "  <thead>\n",
       "    <tr style=\"text-align: right;\">\n",
       "      <th></th>\n",
       "      <th>CO (vol%)</th>\n",
       "      <th>H$_2$ (vol%)</th>\n",
       "      <th>CH$_4$ (vol%)</th>\n",
       "      <th>COMBgas (vol%)</th>\n",
       "      <th>H$_2$/CO</th>\n",
       "      <th>GAS (m$^3$/kg biom)</th>\n",
       "      <th>E$_{\\rm yield}$ (MJ/kg biom)</th>\n",
       "      <th>BIOMASS</th>\n",
       "      <th>BIOMASS_name</th>\n",
       "      <th>ORIGIN</th>\n",
       "    </tr>\n",
       "  </thead>\n",
       "  <tbody>\n",
       "    <tr>\n",
       "      <th>0</th>\n",
       "      <td>16.6691</td>\n",
       "      <td>34.579061</td>\n",
       "      <td>7.537308</td>\n",
       "      <td>58.785469</td>\n",
       "      <td>2.074441</td>\n",
       "      <td>0.826763</td>\n",
       "      <td>7.324771</td>\n",
       "      <td>ALH</td>\n",
       "      <td>almond hulls</td>\n",
       "      <td>fruit bunches</td>\n",
       "    </tr>\n",
       "  </tbody>\n",
       "</table>\n",
       "</div>"
      ],
      "text/plain": [
       "   CO (vol%)  H$_2$ (vol%)  CH$_4$ (vol%)  COMBgas (vol%)  H$_2$/CO  \\\n",
       "0    16.6691     34.579061       7.537308       58.785469  2.074441   \n",
       "\n",
       "   GAS (m$^3$/kg biom)  E$_{\\rm yield}$ (MJ/kg biom) BIOMASS  BIOMASS_name  \\\n",
       "0             0.826763                      7.324771     ALH  almond hulls   \n",
       "\n",
       "          ORIGIN  \n",
       "0  fruit bunches  "
      ]
     },
     "execution_count": 31,
     "metadata": {},
     "output_type": "execute_result"
    }
   ],
   "source": [
    "df_predictions_mu.head(1)"
   ]
  },
  {
   "cell_type": "code",
   "execution_count": 32,
   "id": "32ac8d74",
   "metadata": {},
   "outputs": [
    {
     "data": {
      "image/png": "[encoded data removed]",
      "text/plain": [
       "<Figure size 720x576 with 1 Axes>"
      ]
     },
     "metadata": {
      "needs_background": "light"
     },
     "output_type": "display_data"
    }
   ],
   "source": [
    "x_var = 6\n",
    "y_var = 4\n",
    "fig, ax = plt.subplots(1, 1, figsize=(10, 8))\n",
    "data = df_predictions_mu.iloc[:, [x_var, y_var]].copy()\n",
    "data[\"groups\"] = kmeans.labels_\n",
    "data[\"biomass type\"] = label_encoder.inverse_transform(y_true_labels)\n",
    "sns.scatterplot(\n",
    "    x=output_names[x_var],\n",
    "    y=output_names[y_var],\n",
    "    hue=\"groups\",\n",
    "    s=120,\n",
    "    style=\"biomass type\",\n",
    "    data=data,\n",
    "    hue_order=[2, 1, 3, 0],\n",
    "    style_order=hue_order,\n",
    "    palette=colors,\n",
    ")\n",
    "ax.axhline(y=1.995, linestyle=\"--\", linewidth=1.5, color=\"#134c87\")\n",
    "ax.set_xlabel(output_names[x_var], fontsize=22, fontweight=\"bold\", labelpad=14)\n",
    "ax.set_ylabel(output_names[y_var], fontsize=22, fontweight=\"bold\", labelpad=8)\n",
    "ax.tick_params(labelsize=16)\n",
    "ax.axes.set_xlim(3.5, 19.8)\n",
    "ax.axes.set_xticks(np.arange(4, 20, 2))\n",
    "\n",
    "handles, labels = ax.get_legend_handles_labels()\n",
    "labels = [\"GROUP\", \"1\", \"2\", \"3\", \"4\", \"BIOMASS TYPE\"] + hue_order\n",
    "ax.legend(\n",
    "    handles,\n",
    "    labels,\n",
    "    prop={\"size\": 14.9},\n",
    "    loc=\"center left\",\n",
    "    bbox_to_anchor=(1, 0.5),\n",
    "    ncol=1,\n",
    "    markerscale=1.3,\n",
    "    fancybox=False,\n",
    "    edgecolor=\"black\",\n",
    ")\n",
    "plt.show()"
   ]
  },
  {
   "cell_type": "code",
   "execution_count": 33,
   "id": "d0b4507e",
   "metadata": {},
   "outputs": [
    {
     "data": {
      "image/png": "[encoded data removed]",
      "text/plain": [
       "<Figure size 504x504 with 1 Axes>"
      ]
     },
     "metadata": {
      "needs_background": "light"
     },
     "output_type": "display_data"
    }
   ],
   "source": [
    "x_var = 5\n",
    "y_var = 9\n",
    "fig, ax = plt.subplots(1, 1, figsize=(7, 7))\n",
    "data = FEATURES_NEWbiomass.iloc[:, [x_var, y_var]].copy()\n",
    "data[\"groups\"] = kmeans.labels_\n",
    "data[\"biomass type\"] = label_encoder.inverse_transform(y_true_labels)\n",
    "sns.scatterplot(\n",
    "    x=FEATURES_NEWbiomass.columns[x_var],\n",
    "    y=FEATURES_NEWbiomass.columns[y_var],\n",
    "    hue=\"groups\",\n",
    "    s=120,\n",
    "    style=\"biomass type\",\n",
    "    data=data,\n",
    "    hue_order=[2, 1, 3, 0],\n",
    "    style_order=hue_order,\n",
    "    palette=colors,\n",
    ")\n",
    "ax.set_xlabel(FEATURES_NEWbiomass.columns[x_var], fontsize=24, fontweight=\"bold\", labelpad=14)\n",
    "ax.set_ylabel(FEATURES_NEWbiomass.columns[y_var], fontsize=24, fontweight=\"bold\", labelpad=8)\n",
    "ax.tick_params(labelsize=18)\n",
    "\n",
    "handles, labels = ax.get_legend_handles_labels()\n",
    "labels = [\"GROUP\", \"1\", \"2\", \"3\", \"4\", \"BIOMASS TYPE\"] + hue_order\n",
    "ax.legend(\n",
    "    handles,\n",
    "    labels,\n",
    "    prop={\"size\": 14.9},\n",
    "    loc=\"center left\",\n",
    "    bbox_to_anchor=(1, 0.5),\n",
    "    ncol=1,\n",
    "    markerscale=1.3,\n",
    "    fancybox=False,\n",
    "    edgecolor=\"black\",\n",
    ")\n",
    "plt.savefig(\"clusters_prop.pdf\", bbox_inches=\"tight\")\n",
    "plt.show()"
   ]
  },
  {
   "cell_type": "code",
   "execution_count": 34,
   "id": "97ea4b20",
   "metadata": {},
   "outputs": [
    {
     "data": {
      "image/png": "[encoded data removed]",
      "text/plain": [
       "<Figure size 504x504 with 1 Axes>"
      ]
     },
     "metadata": {
      "needs_background": "light"
     },
     "output_type": "display_data"
    }
   ],
   "source": [
    "x_var = 2\n",
    "y_var = 10\n",
    "fig, ax = plt.subplots(1, 1, figsize=(7, 7))\n",
    "data = FEATURES_NEWbiomass.iloc[:, [x_var, y_var]].copy()\n",
    "data[\"groups\"] = kmeans.labels_\n",
    "data[\"biomass type\"] = label_encoder.inverse_transform(y_true_labels)\n",
    "sns.scatterplot(\n",
    "    x=FEATURES_NEWbiomass.columns[x_var],\n",
    "    y=FEATURES_NEWbiomass.columns[y_var],\n",
    "    hue=\"groups\",\n",
    "    s=120,\n",
    "    style=\"biomass type\",\n",
    "    data=data,\n",
    "    hue_order=[2, 1, 3, 0],\n",
    "    style_order=hue_order,\n",
    "    palette=colors,\n",
    ")\n",
    "ax.set_xlabel(FEATURES_NEWbiomass.columns[x_var], fontsize=24, fontweight=\"bold\", labelpad=14)\n",
    "ax.set_ylabel(FEATURES_NEWbiomass.columns[y_var], fontsize=24, fontweight=\"bold\", labelpad=8)\n",
    "ax.tick_params(labelsize=18)\n",
    "\n",
    "handles, labels = ax.get_legend_handles_labels()\n",
    "labels = [\"GROUP\", \"1\", \"2\", \"3\", \"4\", \"BIOMASS TYPE\"] + hue_order\n",
    "ax.legend(\n",
    "    handles,\n",
    "    labels,\n",
    "    prop={\"size\": 14.9},\n",
    "    loc=\"center left\",\n",
    "    bbox_to_anchor=(1, 0.5),\n",
    "    ncol=1,\n",
    "    markerscale=1.3,\n",
    "    fancybox=False,\n",
    "    edgecolor=\"black\",\n",
    ")\n",
    "plt.savefig(\"clusters_prop.pdf\", bbox_inches=\"tight\")\n",
    "plt.show()"
   ]
  },
  {
   "cell_type": "code",
   "execution_count": 35,
   "id": "38ea8432",
   "metadata": {},
   "outputs": [
    {
     "data": {
      "image/png": "[encoded data removed]",
      "text/plain": [
       "<Figure size 504x504 with 1 Axes>"
      ]
     },
     "metadata": {
      "needs_background": "light"
     },
     "output_type": "display_data"
    }
   ],
   "source": [
    "x_var = 10\n",
    "y_var = 7\n",
    "fig, ax = plt.subplots(1, 1, figsize=(7, 7))\n",
    "data = FEATURES_NEWbiomass.iloc[:, [x_var, y_var]].copy()\n",
    "data[\"groups\"] = kmeans.labels_\n",
    "data[\"biomass type\"] = label_encoder.inverse_transform(y_true_labels)\n",
    "sns.scatterplot(\n",
    "    x=FEATURES_NEWbiomass.columns[x_var],\n",
    "    y=FEATURES_NEWbiomass.columns[y_var],\n",
    "    hue=\"groups\",\n",
    "    s=120,\n",
    "    style=\"biomass type\",\n",
    "    data=data,\n",
    "    hue_order=[2, 1, 3, 0],\n",
    "    style_order=hue_order,\n",
    "    palette=colors,\n",
    ")\n",
    "ax.set_xlabel(FEATURES_NEWbiomass.columns[x_var], fontsize=24, fontweight=\"bold\", labelpad=14)\n",
    "ax.set_ylabel(FEATURES_NEWbiomass.columns[y_var], fontsize=24, fontweight=\"bold\", labelpad=8)\n",
    "ax.tick_params(labelsize=18)\n",
    "\n",
    "handles, labels = ax.get_legend_handles_labels()\n",
    "labels = [\"GROUP\", \"1\", \"2\", \"3\", \"4\", \"BIOMASS TYPE\"] + hue_order\n",
    "ax.legend(\n",
    "    handles,\n",
    "    labels,\n",
    "    prop={\"size\": 14.9},\n",
    "    loc=\"center left\",\n",
    "    bbox_to_anchor=(1.05, 0.5),\n",
    "    ncol=1,\n",
    "    markerscale=1.3,\n",
    "    fancybox=False,\n",
    "    edgecolor=\"black\",\n",
    ")\n",
    "plt.savefig(\"clusters_prop.pdf\", bbox_inches=\"tight\")\n",
    "plt.show()"
   ]
  }
 ],
 "metadata": {
  "kernelspec": {
   "display_name": "Python 3",
   "language": "python",
   "name": "python3"
  },
  "language_info": {
   "codemirror_mode": {
    "name": "ipython",
    "version": 3
   },
   "file_extension": ".py",
   "mimetype": "text/x-python",
   "name": "python",
   "nbconvert_exporter": "python",
   "pygments_lexer": "ipython3",
   "version": "3.8.10 (default, Mar 15 2022, 12:22:08) \n[GCC 9.4.0]"
  },
  "vscode": {
   "interpreter": {
    "hash": "916dbcbb3f70747c44a77c7bcd40155683ae19c65e1c03b4aa3499c5328201f1"
   }
  }
 },
 "nbformat": 4,
 "nbformat_minor": 5
}
