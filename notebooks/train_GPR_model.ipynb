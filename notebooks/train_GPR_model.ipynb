{
 "cells": [
  {
   "cell_type": "code",
   "execution_count": 1,
   "id": "81ec2f60",
   "metadata": {},
   "outputs": [],
   "source": [
    "import os\n",
    "import pandas as pd\n",
    "import matplotlib.pyplot as plt\n",
    "\n",
    "%matplotlib inline\n",
    "\n",
    "import biomassml\n",
    "from biomassml.build_model import *\n",
    "from biomassml.coregionalized_regressor import *\n",
    "from biomassml.io import *\n",
    "from biomassml.metrics import *\n",
    "from biomassml.predict_outputs import *\n",
    "from biomassml.plotting import *\n",
    "\n",
    "DATA_DIR = \".../data/\"\n",
    "MODEL_DIR = \".../models/\"\n",
    "\n",
    "output_names = [\n",
    "    \"CO (vol%)\",\n",
    "    r\"H$_2$ (vol%)\",\n",
    "    \"COMBgas (vol%)\",\n",
    "    r\"GAS (m$^3$/kg biom)\",\n",
    "    r\"CH$_4$ (vol%)\",\n",
    "]"
   ]
  },
  {
   "cell_type": "markdown",
   "id": "67518c76",
   "metadata": {},
   "source": [
    "### multioutput GPR model - LOOCV\n",
    "### 12 features -  4 outputs (volCO, volH2, volCOMB, GAS)"
   ]
  },
  {
   "cell_type": "code",
   "execution_count": 3,
   "id": "c8ef3716",
   "metadata": {},
   "outputs": [],
   "source": [
    "dfGASIF_dataset = pd.read_csv(os.path.join(DATA_DIR, \"data_GASIF_biomass.csv\"))"
   ]
  },
  {
   "cell_type": "code",
   "execution_count": 4,
   "id": "7536c5ae",
   "metadata": {
    "scrolled": true
   },
   "outputs": [
    {
     "name": "stdout",
     "output_type": "stream",
     "text": [
      "<class 'pandas.core.frame.DataFrame'>\n",
      "RangeIndex: 30 entries, 0 to 29\n",
      "Data columns (total 21 columns):\n",
      " #   Column            Non-Null Count  Dtype  \n",
      "---  ------            --------------  -----  \n",
      " 0   BIOMASS           30 non-null     object \n",
      " 1   SA                30 non-null     float64\n",
      " 2   SBR               30 non-null     float64\n",
      " 3   HHVbiom (MJ/kg)   30 non-null     float64\n",
      " 4   T (K)             30 non-null     int64  \n",
      " 5   SR                30 non-null     float64\n",
      " 6   C (%)             30 non-null     float64\n",
      " 7   N (%)             30 non-null     float64\n",
      " 8   H (%)             30 non-null     float64\n",
      " 9   S (%)             30 non-null     float64\n",
      " 10  O (%)             30 non-null     float64\n",
      " 11  ash (%)           30 non-null     float64\n",
      " 12  VM (%)            30 non-null     float64\n",
      " 13  FC (%)            30 non-null     float64\n",
      " 14  MC (%)            30 non-null     float64\n",
      " 15  volCO2 (%)        30 non-null     float64\n",
      " 16  volCO (%)         30 non-null     float64\n",
      " 17  volCH4 (%)        30 non-null     float64\n",
      " 18  volH2 (%)         30 non-null     float64\n",
      " 19  volCOMB (%)       30 non-null     float64\n",
      " 20  GAS (m3/kg biom)  30 non-null     float64\n",
      "dtypes: float64(19), int64(1), object(1)\n",
      "memory usage: 5.0+ KB\n"
     ]
    }
   ],
   "source": [
    "dfGASIF_dataset.info()"
   ]
  },
  {
   "cell_type": "code",
   "execution_count": 5,
   "id": "5f5fe019",
   "metadata": {},
   "outputs": [
    {
     "data": {
      "text/html": [
       "<div>\n",
       "<style scoped>\n",
       "    .dataframe tbody tr th:only-of-type {\n",
       "        vertical-align: middle;\n",
       "    }\n",
       "\n",
       "    .dataframe tbody tr th {\n",
       "        vertical-align: top;\n",
       "    }\n",
       "\n",
       "    .dataframe thead th {\n",
       "        text-align: right;\n",
       "    }\n",
       "</style>\n",
       "<table border=\"1\" class=\"dataframe\">\n",
       "  <thead>\n",
       "    <tr style=\"text-align: right;\">\n",
       "      <th></th>\n",
       "      <th>SA</th>\n",
       "      <th>SBR</th>\n",
       "      <th>HHVbiom (MJ/kg)</th>\n",
       "      <th>T (K)</th>\n",
       "      <th>SR</th>\n",
       "      <th>C (%)</th>\n",
       "      <th>H (%)</th>\n",
       "      <th>O (%)</th>\n",
       "      <th>ash (%)</th>\n",
       "      <th>VM (%)</th>\n",
       "      <th>FC (%)</th>\n",
       "      <th>MC (%)</th>\n",
       "    </tr>\n",
       "  </thead>\n",
       "  <tbody>\n",
       "    <tr>\n",
       "      <th>0</th>\n",
       "      <td>2.33</td>\n",
       "      <td>1.1</td>\n",
       "      <td>19.5649</td>\n",
       "      <td>1173</td>\n",
       "      <td>0.13</td>\n",
       "      <td>49.44</td>\n",
       "      <td>5.85</td>\n",
       "      <td>42.9</td>\n",
       "      <td>1.45</td>\n",
       "      <td>78.93</td>\n",
       "      <td>19.62</td>\n",
       "      <td>6.52</td>\n",
       "    </tr>\n",
       "  </tbody>\n",
       "</table>\n",
       "</div>"
      ],
      "text/plain": [
       "     SA  SBR  HHVbiom (MJ/kg)  T (K)    SR  C (%)  H (%)  O (%)  ash (%)  \\\n",
       "0  2.33  1.1          19.5649   1173  0.13  49.44   5.85   42.9     1.45   \n",
       "\n",
       "   VM (%)  FC (%)  MC (%)  \n",
       "0   78.93   19.62    6.52  "
      ]
     },
     "execution_count": 5,
     "metadata": {},
     "output_type": "execute_result"
    }
   ],
   "source": [
    "FEATURES_GASIF = pd.concat(\n",
    "    [dfGASIF_dataset.iloc[:, 1:7], dfGASIF_dataset.iloc[:, [8, 10, 11, 12, 13, 14]]], axis=1\n",
    ")\n",
    "FEATURES_GASIF.head(1)"
   ]
  },
  {
   "cell_type": "code",
   "execution_count": 6,
   "id": "08e58c98",
   "metadata": {},
   "outputs": [
    {
     "data": {
      "text/html": [
       "<div>\n",
       "<style scoped>\n",
       "    .dataframe tbody tr th:only-of-type {\n",
       "        vertical-align: middle;\n",
       "    }\n",
       "\n",
       "    .dataframe tbody tr th {\n",
       "        vertical-align: top;\n",
       "    }\n",
       "\n",
       "    .dataframe thead th {\n",
       "        text-align: right;\n",
       "    }\n",
       "</style>\n",
       "<table border=\"1\" class=\"dataframe\">\n",
       "  <thead>\n",
       "    <tr style=\"text-align: right;\">\n",
       "      <th></th>\n",
       "      <th>volCO (%)</th>\n",
       "      <th>volH2 (%)</th>\n",
       "      <th>volCOMB (%)</th>\n",
       "      <th>GAS (m3/kg biom)</th>\n",
       "    </tr>\n",
       "  </thead>\n",
       "  <tbody>\n",
       "    <tr>\n",
       "      <th>0</th>\n",
       "      <td>23.6541</td>\n",
       "      <td>36.4296</td>\n",
       "      <td>67.4756</td>\n",
       "      <td>0.7975</td>\n",
       "    </tr>\n",
       "  </tbody>\n",
       "</table>\n",
       "</div>"
      ],
      "text/plain": [
       "   volCO (%)  volH2 (%)  volCOMB (%)  GAS (m3/kg biom)\n",
       "0    23.6541    36.4296      67.4756            0.7975"
      ]
     },
     "execution_count": 6,
     "metadata": {},
     "output_type": "execute_result"
    }
   ],
   "source": [
    "TARGETS_GASIF = dfGASIF_dataset.iloc[:, [16, 18, 19, 20]]\n",
    "TARGETS_GASIF.head(1)"
   ]
  },
  {
   "cell_type": "code",
   "execution_count": 7,
   "id": "e4fc0465",
   "metadata": {},
   "outputs": [],
   "source": [
    "features = list(FEATURES_GASIF.columns)\n",
    "X = FEATURES_GASIF\n",
    "y = TARGETS_GASIF"
   ]
  },
  {
   "cell_type": "code",
   "execution_count": 8,
   "id": "20ed5456",
   "metadata": {},
   "outputs": [],
   "source": [
    "kernel_rbf_lin = get_rbf_kernel(len(features), ARD=True) + get_linear_kernel(\n",
    "    len(features), ARD=True\n",
    ")"
   ]
  },
  {
   "cell_type": "markdown",
   "id": "c35adf9e",
   "metadata": {},
   "source": [
    "### train model"
   ]
  },
  {
   "cell_type": "code",
   "execution_count": 9,
   "id": "84254cbc",
   "metadata": {},
   "outputs": [],
   "source": [
    "model_GPR_loocv = build_coregionalized_model(X.values, y.values, kernel=kernel_rbf_lin)\n",
    "\n",
    "test_metrics, prediction_collection_train, prediction_collection_test = loocv_train_test(\n",
    "    model_GPR_loocv, X.values, y.values, coregionalized=True, n_restarts=20\n",
    ")\n",
    "\n",
    "dump_joblib(model_GPR_loocv, os.path.join(MODEL_DIR, \"model_GPR_loocv\"))"
   ]
  },
  {
   "cell_type": "markdown",
   "id": "af9b8b2c",
   "metadata": {},
   "source": [
    "### load model"
   ]
  },
  {
   "cell_type": "code",
   "execution_count": 11,
   "id": "93b412c8",
   "metadata": {},
   "outputs": [],
   "source": [
    "model = load_joblib(os.path.join(MODEL_DIR, \"model_GPR_loocv\"))"
   ]
  },
  {
   "cell_type": "markdown",
   "id": "dcdfe5cb",
   "metadata": {},
   "source": [
    "#### get scalers from dfGASIF_dataset including CH4"
   ]
  },
  {
   "cell_type": "code",
   "execution_count": 13,
   "id": "f156cff9",
   "metadata": {},
   "outputs": [
    {
     "data": {
      "text/html": [
       "<div>\n",
       "<style scoped>\n",
       "    .dataframe tbody tr th:only-of-type {\n",
       "        vertical-align: middle;\n",
       "    }\n",
       "\n",
       "    .dataframe tbody tr th {\n",
       "        vertical-align: top;\n",
       "    }\n",
       "\n",
       "    .dataframe thead th {\n",
       "        text-align: right;\n",
       "    }\n",
       "</style>\n",
       "<table border=\"1\" class=\"dataframe\">\n",
       "  <thead>\n",
       "    <tr style=\"text-align: right;\">\n",
       "      <th></th>\n",
       "      <th>volCO (%)</th>\n",
       "      <th>volH2 (%)</th>\n",
       "      <th>volCOMB (%)</th>\n",
       "      <th>GAS (m3/kg biom)</th>\n",
       "      <th>volCH4 (%)</th>\n",
       "    </tr>\n",
       "  </thead>\n",
       "  <tbody>\n",
       "    <tr>\n",
       "      <th>0</th>\n",
       "      <td>23.6541</td>\n",
       "      <td>36.4296</td>\n",
       "      <td>67.4756</td>\n",
       "      <td>0.7975</td>\n",
       "      <td>7.3919</td>\n",
       "    </tr>\n",
       "  </tbody>\n",
       "</table>\n",
       "</div>"
      ],
      "text/plain": [
       "   volCO (%)  volH2 (%)  volCOMB (%)  GAS (m3/kg biom)  volCH4 (%)\n",
       "0    23.6541    36.4296      67.4756            0.7975      7.3919"
      ]
     },
     "execution_count": 13,
     "metadata": {},
     "output_type": "execute_result"
    }
   ],
   "source": [
    "TARGETS_GASIF_wCH4 = dfGASIF_dataset.iloc[:, [16, 18, 19, 20, 17]]\n",
    "TARGETS_GASIF_wCH4.head(1)"
   ]
  },
  {
   "cell_type": "code",
   "execution_count": 14,
   "id": "67cde80d",
   "metadata": {},
   "outputs": [
    {
     "data": {
      "text/plain": [
       "['y_scaler_wCH4']"
      ]
     },
     "execution_count": 14,
     "metadata": {},
     "output_type": "execute_result"
    }
   ],
   "source": [
    "x_scaler, y_scaler_wCH4 = get_scalers(FEATURES_GASIF, TARGETS_GASIF_wCH4)\n",
    "joblib.dump(x_scaler, \"x_scaler\")\n",
    "joblib.dump(y_scaler_wCH4, \"y_scaler_wCH4\")"
   ]
  },
  {
   "cell_type": "markdown",
   "id": "5ba5bdde",
   "metadata": {},
   "source": [
    "#### predict CH4"
   ]
  },
  {
   "cell_type": "code",
   "execution_count": 15,
   "id": "adc1a30d",
   "metadata": {},
   "outputs": [],
   "source": [
    "y_pred_mu_CH4 = predict_CH4_covar(X, model, x_scaler, y_scaler_wCH4, DATA_DIR)[0]\n",
    "y_pred_std_CH4_covar = predict_CH4_covar(X, model, x_scaler, y_scaler_wCH4, DATA_DIR)[1]\n",
    "\n",
    "y_pred_mu_CH4_scaled = (\n",
    "    (y_pred_mu_CH4 - y_scaler_wCH4.mean_[4]) / sqrt(y_scaler_wCH4.var_[4])\n",
    ").flatten()\n",
    "y_pred_std_CH4_covar_scaled = (y_pred_std_CH4_covar / sqrt(y_scaler_wCH4.var_[4])).flatten()"
   ]
  },
  {
   "cell_type": "code",
   "execution_count": 20,
   "id": "f9f63a1d",
   "metadata": {},
   "outputs": [],
   "source": [
    "def individual_plot(n_output, ax):\n",
    "    y_true = np.concatenate([pred[n_output][\"true\"] for pred in prediction_collection_test])\n",
    "    y_pred_mu = np.concatenate([pred[n_output][\"mu\"] for pred in prediction_collection_test])\n",
    "    y_pred_std = np.concatenate([pred[n_output][\"std\"] for pred in prediction_collection_test])\n",
    "    make_parity_plot(\n",
    "        y_true,\n",
    "        y_pred_mu.flatten(),\n",
    "        ax,\n",
    "        y_pred_std.flatten(),\n",
    "        ls=\"none\",\n",
    "        linewidth=1,\n",
    "        color=\"#337eb8\",\n",
    "    )\n",
    "    ax.set_title(output_names[n_output], fontsize=19)\n",
    "    ax.set_xlabel(\"true\", fontsize=18)\n",
    "    ax.set_ylabel(\"predicted\", fontsize=18)\n",
    "    ax.tick_params(axis=\"both\", bottom=False, left=False)\n",
    "    ax.xaxis.set_tick_params(labelsize=15)\n",
    "    ax.yaxis.set_tick_params(labelsize=15)"
   ]
  },
  {
   "cell_type": "code",
   "execution_count": 25,
   "id": "f84511fe",
   "metadata": {},
   "outputs": [
    {
     "data": {
      "image/png": "[encoded data removed]",
      "text/plain": [
       "<Figure size 900x360 with 5 Axes>"
      ]
     },
     "metadata": {
      "needs_background": "light"
     },
     "output_type": "display_data"
    }
   ],
   "source": [
    "fig, ax = plt.subplots(1, 5, figsize=(12.5, 5))\n",
    "individual_plot(1, ax[0])\n",
    "individual_plot(0, ax[1])\n",
    "ax[1].set_ylabel(None)\n",
    "\n",
    "y_true = pd.DataFrame(y_scaler_wCH4.transform(TARGETS_GASIF_wCH4)).iloc[:, 4]\n",
    "make_parity_plot(\n",
    "    y_true,\n",
    "    y_pred_mu_CH4_scaled.flatten(),\n",
    "    ax[2],\n",
    "    y_pred_std_CH4_covar_scaled.flatten(),\n",
    "    ls=\"none\",\n",
    "    linewidth=1,\n",
    "    color=\"#337eb8\",\n",
    ")\n",
    "ax[2].set_title(output_names[4], fontsize=19)\n",
    "ax[2].set_xlabel(\"true\", fontsize=18)\n",
    "ax[2].set_ylabel(None)\n",
    "ax[2].tick_params(axis=\"both\", bottom=False, left=False)\n",
    "ax[2].xaxis.set_tick_params(labelsize=15)\n",
    "ax[2].yaxis.set_tick_params(labelsize=15)\n",
    "\n",
    "individual_plot(2, ax[3])\n",
    "ax[3].set_ylabel(None)\n",
    "individual_plot(3, ax[4])\n",
    "ax[4].set_ylabel(None)\n",
    "\n",
    "fig.tight_layout()"
   ]
  },
  {
   "cell_type": "code",
   "execution_count": 26,
   "id": "2bbd40dd",
   "metadata": {},
   "outputs": [],
   "source": [
    "def individual_plot_unscaled(n_output, ax):\n",
    "    y_true = np.concatenate([pred[n_output][\"true\"] for pred in prediction_collection_test])\n",
    "    y_pred_mu = np.concatenate([pred[n_output][\"mu\"] for pred in prediction_collection_test])\n",
    "    y_pred_std = np.concatenate([pred[n_output][\"std\"] for pred in prediction_collection_test])\n",
    "    y_true = y_true * sqrt(y_scaler_wCH4.var_[n_output]) + y_scaler_wCH4.mean_[n_output]\n",
    "    y_pred_mu = y_pred_mu * sqrt(y_scaler_wCH4.var_[n_output]) + y_scaler_wCH4.mean_[n_output]\n",
    "    y_pred_std = y_pred_std * sqrt(y_scaler_wCH4.var_[n_output])\n",
    "\n",
    "    make_parity_plot(\n",
    "        y_true,\n",
    "        y_pred_mu.flatten(),\n",
    "        ax,\n",
    "        y_pred_std.flatten(),\n",
    "        ls=\"none\",\n",
    "        linewidth=1,\n",
    "        color=\"#337eb8\",\n",
    "    )\n",
    "    ax.set_title(output_names[n_output], fontsize=19)\n",
    "    ax.set_xlabel(\"true\", fontsize=18)\n",
    "    ax.set_ylabel(\"predicted\", fontsize=18)\n",
    "    ax.tick_params(axis=\"both\", bottom=False, left=False)\n",
    "    ax.xaxis.set_tick_params(labelsize=15)\n",
    "    ax.yaxis.set_tick_params(labelsize=15)"
   ]
  },
  {
   "cell_type": "code",
   "execution_count": 27,
   "id": "1638fe92",
   "metadata": {},
   "outputs": [
    {
     "data": {
      "image/png": "[encoded data removed]",
      "text/plain": [
       "<Figure size 900x360 with 5 Axes>"
      ]
     },
     "metadata": {
      "needs_background": "light"
     },
     "output_type": "display_data"
    }
   ],
   "source": [
    "fig, ax = plt.subplots(1, 5, figsize=(12.5, 5))\n",
    "individual_plot_unscaled(1, ax[0])\n",
    "individual_plot_unscaled(0, ax[1])\n",
    "ax[1].set_ylabel(None)\n",
    "\n",
    "y_true = TARGETS_GASIF_wCH4.iloc[:, 4]\n",
    "make_parity_plot(\n",
    "    y_true,\n",
    "    y_pred_mu_CH4.flatten(),\n",
    "    ax[2],\n",
    "    y_pred_std_CH4_covar.flatten(),\n",
    "    ls=\"none\",\n",
    "    linewidth=1,\n",
    "    color=\"#337eb8\",\n",
    ")\n",
    "ax[2].set_title(output_names[4], fontsize=19)\n",
    "ax[2].set_xlabel(\"true\", fontsize=18)\n",
    "ax[2].set_ylabel(None)\n",
    "ax[2].tick_params(axis=\"both\", bottom=False, left=False)\n",
    "ax[2].xaxis.set_tick_params(labelsize=15)\n",
    "ax[2].yaxis.set_tick_params(labelsize=15)\n",
    "\n",
    "individual_plot_unscaled(2, ax[3])\n",
    "ax[3].set_ylabel(None)\n",
    "individual_plot_unscaled(3, ax[4])\n",
    "ax[4].set_ylabel(None)\n",
    "\n",
    "fig.tight_layout()"
   ]
  }
 ],
 "metadata": {
  "kernelspec": {
   "display_name": "Python 3",
   "language": "python",
   "name": "python3"
  },
  "language_info": {
   "codemirror_mode": {
    "name": "ipython",
    "version": 3
   },
   "file_extension": ".py",
   "mimetype": "text/x-python",
   "name": "python",
   "nbconvert_exporter": "python",
   "pygments_lexer": "ipython3",
   "version": "3.8.10 (default, Mar 15 2022, 12:22:08) \n[GCC 9.4.0]"
  },
  "vscode": {
   "interpreter": {
    "hash": "916dbcbb3f70747c44a77c7bcd40155683ae19c65e1c03b4aa3499c5328201f1"
   }
  }
 },
 "nbformat": 4,
 "nbformat_minor": 5
}
